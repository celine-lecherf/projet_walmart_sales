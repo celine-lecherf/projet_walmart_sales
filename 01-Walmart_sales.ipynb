{
 "cells": [
  {
   "cell_type": "markdown",
   "metadata": {},
   "source": [
    "<img src=\"https://logo-marque.com/wp-content/uploads/2021/11/Walmart-Logo.png\" alt=\"WALMART LOGO\" />"
   ]
  },
  {
   "cell_type": "markdown",
   "metadata": {},
   "source": [
    "# Walmart : predict weekly sales\n",
    "\n",
    "## Company's Description 📇\n",
    "\n",
    "Walmart Inc. is an American multinational retail corporation that operates a chain of hypermarkets, discount department stores, and grocery stores from the United States, headquartered in Bentonville, Arkansas. The company was founded by Sam Walton in 1962.\n",
    "\n",
    "## Project 🚧\n",
    "\n",
    "Walmart's marketing service has asked you to build a machine learning model able to estimate the weekly sales in their stores, with the best precision possible on the predictions made. Such a model would help them understand better how the sales are influenced by economic indicators, and might be used to plan future marketing campaigns.\n"
   ]
  },
  {
   "cell_type": "code",
   "execution_count": 1,
   "metadata": {},
   "outputs": [],
   "source": [
    "import pandas as pd\n",
    "import numpy as np"
   ]
  },
  {
   "cell_type": "code",
   "execution_count": 2,
   "metadata": {},
   "outputs": [],
   "source": [
    "dataset = pd.read_csv('/home/jovyan/FULLSTACK/MOD4_SUPERVISE/PROJET/PROJECT_WALMART/Walmart_Store_sales.csv')"
   ]
  },
  {
   "cell_type": "code",
   "execution_count": 3,
   "metadata": {},
   "outputs": [
    {
     "data": {
      "text/html": [
       "<div>\n",
       "<style scoped>\n",
       "    .dataframe tbody tr th:only-of-type {\n",
       "        vertical-align: middle;\n",
       "    }\n",
       "\n",
       "    .dataframe tbody tr th {\n",
       "        vertical-align: top;\n",
       "    }\n",
       "\n",
       "    .dataframe thead th {\n",
       "        text-align: right;\n",
       "    }\n",
       "</style>\n",
       "<table border=\"1\" class=\"dataframe\">\n",
       "  <thead>\n",
       "    <tr style=\"text-align: right;\">\n",
       "      <th></th>\n",
       "      <th>Store</th>\n",
       "      <th>Date</th>\n",
       "      <th>Weekly_Sales</th>\n",
       "      <th>Holiday_Flag</th>\n",
       "      <th>Temperature</th>\n",
       "      <th>Fuel_Price</th>\n",
       "      <th>CPI</th>\n",
       "      <th>Unemployment</th>\n",
       "    </tr>\n",
       "  </thead>\n",
       "  <tbody>\n",
       "    <tr>\n",
       "      <th>0</th>\n",
       "      <td>6.0</td>\n",
       "      <td>18-02-2011</td>\n",
       "      <td>1572117.54</td>\n",
       "      <td>NaN</td>\n",
       "      <td>59.61</td>\n",
       "      <td>3.045</td>\n",
       "      <td>214.777523</td>\n",
       "      <td>6.858</td>\n",
       "    </tr>\n",
       "    <tr>\n",
       "      <th>1</th>\n",
       "      <td>13.0</td>\n",
       "      <td>25-03-2011</td>\n",
       "      <td>1807545.43</td>\n",
       "      <td>0.0</td>\n",
       "      <td>42.38</td>\n",
       "      <td>3.435</td>\n",
       "      <td>128.616064</td>\n",
       "      <td>7.470</td>\n",
       "    </tr>\n",
       "    <tr>\n",
       "      <th>2</th>\n",
       "      <td>17.0</td>\n",
       "      <td>27-07-2012</td>\n",
       "      <td>NaN</td>\n",
       "      <td>0.0</td>\n",
       "      <td>NaN</td>\n",
       "      <td>NaN</td>\n",
       "      <td>130.719581</td>\n",
       "      <td>5.936</td>\n",
       "    </tr>\n",
       "    <tr>\n",
       "      <th>3</th>\n",
       "      <td>11.0</td>\n",
       "      <td>NaN</td>\n",
       "      <td>1244390.03</td>\n",
       "      <td>0.0</td>\n",
       "      <td>84.57</td>\n",
       "      <td>NaN</td>\n",
       "      <td>214.556497</td>\n",
       "      <td>7.346</td>\n",
       "    </tr>\n",
       "    <tr>\n",
       "      <th>4</th>\n",
       "      <td>6.0</td>\n",
       "      <td>28-05-2010</td>\n",
       "      <td>1644470.66</td>\n",
       "      <td>0.0</td>\n",
       "      <td>78.89</td>\n",
       "      <td>2.759</td>\n",
       "      <td>212.412888</td>\n",
       "      <td>7.092</td>\n",
       "    </tr>\n",
       "  </tbody>\n",
       "</table>\n",
       "</div>"
      ],
      "text/plain": [
       "   Store        Date  Weekly_Sales  Holiday_Flag  Temperature  Fuel_Price  \\\n",
       "0    6.0  18-02-2011    1572117.54           NaN        59.61       3.045   \n",
       "1   13.0  25-03-2011    1807545.43           0.0        42.38       3.435   \n",
       "2   17.0  27-07-2012           NaN           0.0          NaN         NaN   \n",
       "3   11.0         NaN    1244390.03           0.0        84.57         NaN   \n",
       "4    6.0  28-05-2010    1644470.66           0.0        78.89       2.759   \n",
       "\n",
       "          CPI  Unemployment  \n",
       "0  214.777523         6.858  \n",
       "1  128.616064         7.470  \n",
       "2  130.719581         5.936  \n",
       "3  214.556497         7.346  \n",
       "4  212.412888         7.092  "
      ]
     },
     "execution_count": 3,
     "metadata": {},
     "output_type": "execute_result"
    }
   ],
   "source": [
    "dataset.head()"
   ]
  },
  {
   "cell_type": "code",
   "execution_count": 4,
   "metadata": {},
   "outputs": [
    {
     "data": {
      "text/html": [
       "<div>\n",
       "<style scoped>\n",
       "    .dataframe tbody tr th:only-of-type {\n",
       "        vertical-align: middle;\n",
       "    }\n",
       "\n",
       "    .dataframe tbody tr th {\n",
       "        vertical-align: top;\n",
       "    }\n",
       "\n",
       "    .dataframe thead th {\n",
       "        text-align: right;\n",
       "    }\n",
       "</style>\n",
       "<table border=\"1\" class=\"dataframe\">\n",
       "  <thead>\n",
       "    <tr style=\"text-align: right;\">\n",
       "      <th></th>\n",
       "      <th>Store</th>\n",
       "      <th>Weekly_Sales</th>\n",
       "      <th>Holiday_Flag</th>\n",
       "      <th>Temperature</th>\n",
       "      <th>Fuel_Price</th>\n",
       "      <th>CPI</th>\n",
       "      <th>Unemployment</th>\n",
       "    </tr>\n",
       "  </thead>\n",
       "  <tbody>\n",
       "    <tr>\n",
       "      <th>count</th>\n",
       "      <td>150.000000</td>\n",
       "      <td>1.360000e+02</td>\n",
       "      <td>138.000000</td>\n",
       "      <td>132.000000</td>\n",
       "      <td>136.000000</td>\n",
       "      <td>138.000000</td>\n",
       "      <td>135.000000</td>\n",
       "    </tr>\n",
       "    <tr>\n",
       "      <th>mean</th>\n",
       "      <td>9.866667</td>\n",
       "      <td>1.249536e+06</td>\n",
       "      <td>0.079710</td>\n",
       "      <td>61.398106</td>\n",
       "      <td>3.320853</td>\n",
       "      <td>179.898509</td>\n",
       "      <td>7.598430</td>\n",
       "    </tr>\n",
       "    <tr>\n",
       "      <th>std</th>\n",
       "      <td>6.231191</td>\n",
       "      <td>6.474630e+05</td>\n",
       "      <td>0.271831</td>\n",
       "      <td>18.378901</td>\n",
       "      <td>0.478149</td>\n",
       "      <td>40.274956</td>\n",
       "      <td>1.577173</td>\n",
       "    </tr>\n",
       "    <tr>\n",
       "      <th>min</th>\n",
       "      <td>1.000000</td>\n",
       "      <td>2.689290e+05</td>\n",
       "      <td>0.000000</td>\n",
       "      <td>18.790000</td>\n",
       "      <td>2.514000</td>\n",
       "      <td>126.111903</td>\n",
       "      <td>5.143000</td>\n",
       "    </tr>\n",
       "    <tr>\n",
       "      <th>25%</th>\n",
       "      <td>4.000000</td>\n",
       "      <td>6.050757e+05</td>\n",
       "      <td>0.000000</td>\n",
       "      <td>45.587500</td>\n",
       "      <td>2.852250</td>\n",
       "      <td>131.970831</td>\n",
       "      <td>6.597500</td>\n",
       "    </tr>\n",
       "    <tr>\n",
       "      <th>50%</th>\n",
       "      <td>9.000000</td>\n",
       "      <td>1.261424e+06</td>\n",
       "      <td>0.000000</td>\n",
       "      <td>62.985000</td>\n",
       "      <td>3.451000</td>\n",
       "      <td>197.908893</td>\n",
       "      <td>7.470000</td>\n",
       "    </tr>\n",
       "    <tr>\n",
       "      <th>75%</th>\n",
       "      <td>15.750000</td>\n",
       "      <td>1.806386e+06</td>\n",
       "      <td>0.000000</td>\n",
       "      <td>76.345000</td>\n",
       "      <td>3.706250</td>\n",
       "      <td>214.934616</td>\n",
       "      <td>8.150000</td>\n",
       "    </tr>\n",
       "    <tr>\n",
       "      <th>max</th>\n",
       "      <td>20.000000</td>\n",
       "      <td>2.771397e+06</td>\n",
       "      <td>1.000000</td>\n",
       "      <td>91.650000</td>\n",
       "      <td>4.193000</td>\n",
       "      <td>226.968844</td>\n",
       "      <td>14.313000</td>\n",
       "    </tr>\n",
       "  </tbody>\n",
       "</table>\n",
       "</div>"
      ],
      "text/plain": [
       "            Store  Weekly_Sales  Holiday_Flag  Temperature  Fuel_Price  \\\n",
       "count  150.000000  1.360000e+02    138.000000   132.000000  136.000000   \n",
       "mean     9.866667  1.249536e+06      0.079710    61.398106    3.320853   \n",
       "std      6.231191  6.474630e+05      0.271831    18.378901    0.478149   \n",
       "min      1.000000  2.689290e+05      0.000000    18.790000    2.514000   \n",
       "25%      4.000000  6.050757e+05      0.000000    45.587500    2.852250   \n",
       "50%      9.000000  1.261424e+06      0.000000    62.985000    3.451000   \n",
       "75%     15.750000  1.806386e+06      0.000000    76.345000    3.706250   \n",
       "max     20.000000  2.771397e+06      1.000000    91.650000    4.193000   \n",
       "\n",
       "              CPI  Unemployment  \n",
       "count  138.000000    135.000000  \n",
       "mean   179.898509      7.598430  \n",
       "std     40.274956      1.577173  \n",
       "min    126.111903      5.143000  \n",
       "25%    131.970831      6.597500  \n",
       "50%    197.908893      7.470000  \n",
       "75%    214.934616      8.150000  \n",
       "max    226.968844     14.313000  "
      ]
     },
     "execution_count": 4,
     "metadata": {},
     "output_type": "execute_result"
    }
   ],
   "source": [
    "dataset.describe()"
   ]
  },
  {
   "cell_type": "code",
   "execution_count": 5,
   "metadata": {},
   "outputs": [
    {
     "data": {
      "text/html": [
       "<div>\n",
       "<style scoped>\n",
       "    .dataframe tbody tr th:only-of-type {\n",
       "        vertical-align: middle;\n",
       "    }\n",
       "\n",
       "    .dataframe tbody tr th {\n",
       "        vertical-align: top;\n",
       "    }\n",
       "\n",
       "    .dataframe thead th {\n",
       "        text-align: right;\n",
       "    }\n",
       "</style>\n",
       "<table border=\"1\" class=\"dataframe\">\n",
       "  <thead>\n",
       "    <tr style=\"text-align: right;\">\n",
       "      <th></th>\n",
       "      <th>Store</th>\n",
       "      <th>Date</th>\n",
       "      <th>Weekly_Sales</th>\n",
       "      <th>Holiday_Flag</th>\n",
       "      <th>Temperature</th>\n",
       "      <th>Fuel_Price</th>\n",
       "      <th>CPI</th>\n",
       "      <th>Unemployment</th>\n",
       "    </tr>\n",
       "  </thead>\n",
       "  <tbody>\n",
       "    <tr>\n",
       "      <th>0</th>\n",
       "      <td>6.0</td>\n",
       "      <td>18-02-2011</td>\n",
       "      <td>1572117.54</td>\n",
       "      <td>NaN</td>\n",
       "      <td>59.61</td>\n",
       "      <td>3.045</td>\n",
       "      <td>214.777523</td>\n",
       "      <td>6.858</td>\n",
       "    </tr>\n",
       "    <tr>\n",
       "      <th>1</th>\n",
       "      <td>13.0</td>\n",
       "      <td>25-03-2011</td>\n",
       "      <td>1807545.43</td>\n",
       "      <td>0.0</td>\n",
       "      <td>42.38</td>\n",
       "      <td>3.435</td>\n",
       "      <td>128.616064</td>\n",
       "      <td>7.470</td>\n",
       "    </tr>\n",
       "    <tr>\n",
       "      <th>2</th>\n",
       "      <td>17.0</td>\n",
       "      <td>27-07-2012</td>\n",
       "      <td>NaN</td>\n",
       "      <td>0.0</td>\n",
       "      <td>NaN</td>\n",
       "      <td>NaN</td>\n",
       "      <td>130.719581</td>\n",
       "      <td>5.936</td>\n",
       "    </tr>\n",
       "    <tr>\n",
       "      <th>4</th>\n",
       "      <td>6.0</td>\n",
       "      <td>28-05-2010</td>\n",
       "      <td>1644470.66</td>\n",
       "      <td>0.0</td>\n",
       "      <td>78.89</td>\n",
       "      <td>2.759</td>\n",
       "      <td>212.412888</td>\n",
       "      <td>7.092</td>\n",
       "    </tr>\n",
       "    <tr>\n",
       "      <th>5</th>\n",
       "      <td>4.0</td>\n",
       "      <td>28-05-2010</td>\n",
       "      <td>1857533.70</td>\n",
       "      <td>0.0</td>\n",
       "      <td>NaN</td>\n",
       "      <td>2.756</td>\n",
       "      <td>126.160226</td>\n",
       "      <td>7.896</td>\n",
       "    </tr>\n",
       "    <tr>\n",
       "      <th>...</th>\n",
       "      <td>...</td>\n",
       "      <td>...</td>\n",
       "      <td>...</td>\n",
       "      <td>...</td>\n",
       "      <td>...</td>\n",
       "      <td>...</td>\n",
       "      <td>...</td>\n",
       "      <td>...</td>\n",
       "    </tr>\n",
       "    <tr>\n",
       "      <th>144</th>\n",
       "      <td>3.0</td>\n",
       "      <td>19-10-2012</td>\n",
       "      <td>424513.08</td>\n",
       "      <td>0.0</td>\n",
       "      <td>73.44</td>\n",
       "      <td>3.594</td>\n",
       "      <td>226.968844</td>\n",
       "      <td>6.034</td>\n",
       "    </tr>\n",
       "    <tr>\n",
       "      <th>145</th>\n",
       "      <td>14.0</td>\n",
       "      <td>18-06-2010</td>\n",
       "      <td>2248645.59</td>\n",
       "      <td>0.0</td>\n",
       "      <td>72.62</td>\n",
       "      <td>2.780</td>\n",
       "      <td>182.442420</td>\n",
       "      <td>8.899</td>\n",
       "    </tr>\n",
       "    <tr>\n",
       "      <th>147</th>\n",
       "      <td>17.0</td>\n",
       "      <td>11-06-2010</td>\n",
       "      <td>845252.21</td>\n",
       "      <td>0.0</td>\n",
       "      <td>57.14</td>\n",
       "      <td>2.841</td>\n",
       "      <td>126.111903</td>\n",
       "      <td>NaN</td>\n",
       "    </tr>\n",
       "    <tr>\n",
       "      <th>148</th>\n",
       "      <td>8.0</td>\n",
       "      <td>12-08-2011</td>\n",
       "      <td>856796.10</td>\n",
       "      <td>0.0</td>\n",
       "      <td>86.05</td>\n",
       "      <td>3.638</td>\n",
       "      <td>219.007525</td>\n",
       "      <td>NaN</td>\n",
       "    </tr>\n",
       "    <tr>\n",
       "      <th>149</th>\n",
       "      <td>19.0</td>\n",
       "      <td>20-04-2012</td>\n",
       "      <td>1255087.26</td>\n",
       "      <td>0.0</td>\n",
       "      <td>55.20</td>\n",
       "      <td>4.170</td>\n",
       "      <td>137.923067</td>\n",
       "      <td>8.150</td>\n",
       "    </tr>\n",
       "  </tbody>\n",
       "</table>\n",
       "<p>132 rows × 8 columns</p>\n",
       "</div>"
      ],
      "text/plain": [
       "     Store        Date  Weekly_Sales  Holiday_Flag  Temperature  Fuel_Price  \\\n",
       "0      6.0  18-02-2011    1572117.54           NaN        59.61       3.045   \n",
       "1     13.0  25-03-2011    1807545.43           0.0        42.38       3.435   \n",
       "2     17.0  27-07-2012           NaN           0.0          NaN         NaN   \n",
       "4      6.0  28-05-2010    1644470.66           0.0        78.89       2.759   \n",
       "5      4.0  28-05-2010    1857533.70           0.0          NaN       2.756   \n",
       "..     ...         ...           ...           ...          ...         ...   \n",
       "144    3.0  19-10-2012     424513.08           0.0        73.44       3.594   \n",
       "145   14.0  18-06-2010    2248645.59           0.0        72.62       2.780   \n",
       "147   17.0  11-06-2010     845252.21           0.0        57.14       2.841   \n",
       "148    8.0  12-08-2011     856796.10           0.0        86.05       3.638   \n",
       "149   19.0  20-04-2012    1255087.26           0.0        55.20       4.170   \n",
       "\n",
       "            CPI  Unemployment  \n",
       "0    214.777523         6.858  \n",
       "1    128.616064         7.470  \n",
       "2    130.719581         5.936  \n",
       "4    212.412888         7.092  \n",
       "5    126.160226         7.896  \n",
       "..          ...           ...  \n",
       "144  226.968844         6.034  \n",
       "145  182.442420         8.899  \n",
       "147  126.111903           NaN  \n",
       "148  219.007525           NaN  \n",
       "149  137.923067         8.150  \n",
       "\n",
       "[132 rows x 8 columns]"
      ]
     },
     "execution_count": 5,
     "metadata": {},
     "output_type": "execute_result"
    }
   ],
   "source": [
    "#ici nous gardons seulement le dataset qui a des dates non nulles\n",
    "dataset = dataset[~dataset['Date'].isnull()]\n",
    "dataset"
   ]
  },
  {
   "cell_type": "markdown",
   "metadata": {},
   "source": [
    "<b>Préparation du dataset"
   ]
  },
  {
   "cell_type": "code",
   "execution_count": 6,
   "metadata": {},
   "outputs": [],
   "source": [
    "import seaborn as sns\n",
    "import matplotlib.pyplot as plt"
   ]
  },
  {
   "cell_type": "code",
   "execution_count": 7,
   "metadata": {},
   "outputs": [
    {
     "name": "stdout",
     "output_type": "stream",
     "text": [
      "Percentage of missing values: \n"
     ]
    },
    {
     "data": {
      "text/plain": [
       "Store            0.000000\n",
       "Date             0.000000\n",
       "Weekly_Sales    10.606061\n",
       "Holiday_Flag     7.575758\n",
       "Temperature     10.606061\n",
       "Fuel_Price       9.848485\n",
       "CPI              7.575758\n",
       "Unemployment     9.090909\n",
       "dtype: float64"
      ]
     },
     "metadata": {},
     "output_type": "display_data"
    }
   ],
   "source": [
    "print(\"Percentage of missing values: \")\n",
    "display(100*dataset.isnull().sum()/dataset.shape[0])"
   ]
  },
  {
   "cell_type": "code",
   "execution_count": 8,
   "metadata": {},
   "outputs": [
    {
     "name": "stdout",
     "output_type": "stream",
     "text": [
      "<class 'pandas.core.frame.DataFrame'>\n",
      "Int64Index: 132 entries, 0 to 149\n",
      "Data columns (total 8 columns):\n",
      " #   Column        Non-Null Count  Dtype  \n",
      "---  ------        --------------  -----  \n",
      " 0   Store         132 non-null    float64\n",
      " 1   Date          132 non-null    object \n",
      " 2   Weekly_Sales  118 non-null    float64\n",
      " 3   Holiday_Flag  122 non-null    float64\n",
      " 4   Temperature   118 non-null    float64\n",
      " 5   Fuel_Price    119 non-null    float64\n",
      " 6   CPI           122 non-null    float64\n",
      " 7   Unemployment  120 non-null    float64\n",
      "dtypes: float64(7), object(1)\n",
      "memory usage: 9.3+ KB\n"
     ]
    }
   ],
   "source": [
    "dataset.info()"
   ]
  },
  {
   "cell_type": "code",
   "execution_count": 9,
   "metadata": {},
   "outputs": [
    {
     "data": {
      "text/plain": [
       "(132, 8)"
      ]
     },
     "execution_count": 9,
     "metadata": {},
     "output_type": "execute_result"
    }
   ],
   "source": [
    "dataset.shape"
   ]
  },
  {
   "cell_type": "code",
   "execution_count": 10,
   "metadata": {},
   "outputs": [],
   "source": [
    "#from pandas_profiling import ProfileReport"
   ]
  },
  {
   "cell_type": "code",
   "execution_count": 11,
   "metadata": {},
   "outputs": [],
   "source": [
    "#profile = ProfileReport(dataset)\n",
    "#profile"
   ]
  },
  {
   "cell_type": "code",
   "execution_count": 12,
   "metadata": {},
   "outputs": [],
   "source": [
    "#ici nous supprimons les lignes qui n'ont pas de target value \"weekly sales\""
   ]
  },
  {
   "cell_type": "code",
   "execution_count": 13,
   "metadata": {},
   "outputs": [],
   "source": [
    "dataset = dataset.dropna(how='any', subset=['Weekly_Sales'])"
   ]
  },
  {
   "cell_type": "code",
   "execution_count": 14,
   "metadata": {},
   "outputs": [
    {
     "name": "stdout",
     "output_type": "stream",
     "text": [
      "<class 'pandas.core.frame.DataFrame'>\n",
      "Int64Index: 118 entries, 0 to 149\n",
      "Data columns (total 8 columns):\n",
      " #   Column        Non-Null Count  Dtype  \n",
      "---  ------        --------------  -----  \n",
      " 0   Store         118 non-null    float64\n",
      " 1   Date          118 non-null    object \n",
      " 2   Weekly_Sales  118 non-null    float64\n",
      " 3   Holiday_Flag  109 non-null    float64\n",
      " 4   Temperature   107 non-null    float64\n",
      " 5   Fuel_Price    107 non-null    float64\n",
      " 6   CPI           109 non-null    float64\n",
      " 7   Unemployment  107 non-null    float64\n",
      "dtypes: float64(7), object(1)\n",
      "memory usage: 8.3+ KB\n"
     ]
    }
   ],
   "source": [
    "dataset.info()"
   ]
  },
  {
   "cell_type": "code",
   "execution_count": 15,
   "metadata": {},
   "outputs": [
    {
     "data": {
      "text/plain": [
       "(118, 8)"
      ]
     },
     "execution_count": 15,
     "metadata": {},
     "output_type": "execute_result"
    }
   ],
   "source": [
    "dataset.shape"
   ]
  },
  {
   "cell_type": "markdown",
   "metadata": {},
   "source": [
    "Nous n'avons plus que 118 lignes"
   ]
  },
  {
   "cell_type": "code",
   "execution_count": 16,
   "metadata": {},
   "outputs": [
    {
     "name": "stdout",
     "output_type": "stream",
     "text": [
      "Percentage of missing values: \n"
     ]
    },
    {
     "data": {
      "text/plain": [
       "Store           0.000000\n",
       "Date            0.000000\n",
       "Weekly_Sales    0.000000\n",
       "Holiday_Flag    7.627119\n",
       "Temperature     9.322034\n",
       "Fuel_Price      9.322034\n",
       "CPI             7.627119\n",
       "Unemployment    9.322034\n",
       "dtype: float64"
      ]
     },
     "metadata": {},
     "output_type": "display_data"
    }
   ],
   "source": [
    "print(\"Percentage of missing values: \")\n",
    "display(100*dataset.isnull().sum()/dataset.shape[0])"
   ]
  },
  {
   "cell_type": "code",
   "execution_count": 17,
   "metadata": {},
   "outputs": [],
   "source": [
    "#on supprime la colonne date\n",
    "df = dataset.drop('Date',axis=1) "
   ]
  },
  {
   "cell_type": "code",
   "execution_count": 18,
   "metadata": {},
   "outputs": [
    {
     "data": {
      "text/plain": [
       "count    107.000000\n",
       "mean      60.711589\n",
       "std       17.961676\n",
       "min       18.790000\n",
       "25%       45.465000\n",
       "50%       61.790000\n",
       "75%       75.430000\n",
       "max       91.650000\n",
       "Name: Temperature, dtype: float64"
      ]
     },
     "execution_count": 18,
     "metadata": {},
     "output_type": "execute_result"
    }
   ],
   "source": [
    "df['Temperature'].describe()"
   ]
  },
  {
   "cell_type": "code",
   "execution_count": 19,
   "metadata": {},
   "outputs": [],
   "source": [
    "import numpy as np"
   ]
  },
  {
   "cell_type": "code",
   "execution_count": 20,
   "metadata": {},
   "outputs": [],
   "source": [
    "#on supprime les outliers\n",
    "df = df[df['Temperature'].between((df['Temperature'].mean()-3*df['Temperature'].std()),(df['Temperature'].mean()+3*df['Temperature'].std()))]"
   ]
  },
  {
   "cell_type": "code",
   "execution_count": 21,
   "metadata": {},
   "outputs": [
    {
     "data": {
      "text/plain": [
       "count    96.000000\n",
       "mean      3.275135\n",
       "std       0.480343\n",
       "min       2.514000\n",
       "25%       2.816250\n",
       "50%       3.291000\n",
       "75%       3.682500\n",
       "max       4.193000\n",
       "Name: Fuel_Price, dtype: float64"
      ]
     },
     "execution_count": 21,
     "metadata": {},
     "output_type": "execute_result"
    }
   ],
   "source": [
    "df['Fuel_Price'].describe()"
   ]
  },
  {
   "cell_type": "code",
   "execution_count": 22,
   "metadata": {},
   "outputs": [],
   "source": [
    "df = df[df['Fuel_Price'].between((df['Fuel_Price'].mean()-3*df['Fuel_Price'].std()),(df['Fuel_Price'].mean()+3*df['Fuel_Price'].std()))]"
   ]
  },
  {
   "cell_type": "code",
   "execution_count": 23,
   "metadata": {},
   "outputs": [
    {
     "data": {
      "text/plain": [
       "count     91.000000\n",
       "mean     179.194838\n",
       "std       39.570441\n",
       "min      126.111903\n",
       "25%      132.078532\n",
       "50%      196.919506\n",
       "75%      214.832191\n",
       "max      226.968844\n",
       "Name: CPI, dtype: float64"
      ]
     },
     "execution_count": 23,
     "metadata": {},
     "output_type": "execute_result"
    }
   ],
   "source": [
    "df['CPI'].describe()"
   ]
  },
  {
   "cell_type": "code",
   "execution_count": 24,
   "metadata": {},
   "outputs": [],
   "source": [
    "df = df[df['CPI'].between((df['CPI'].mean()-3*df['CPI'].std()),(df['CPI'].mean()+3*df['CPI'].std()))]"
   ]
  },
  {
   "cell_type": "code",
   "execution_count": 25,
   "metadata": {},
   "outputs": [
    {
     "data": {
      "text/plain": [
       "count     91.000000\n",
       "mean     179.194838\n",
       "std       39.570441\n",
       "min      126.111903\n",
       "25%      132.078532\n",
       "50%      196.919506\n",
       "75%      214.832191\n",
       "max      226.968844\n",
       "Name: CPI, dtype: float64"
      ]
     },
     "execution_count": 25,
     "metadata": {},
     "output_type": "execute_result"
    }
   ],
   "source": [
    "df['CPI'].describe()"
   ]
  },
  {
   "cell_type": "code",
   "execution_count": 26,
   "metadata": {},
   "outputs": [
    {
     "data": {
      "text/plain": [
       "count    84.000000\n",
       "mean      7.617548\n",
       "std       1.700656\n",
       "min       5.143000\n",
       "25%       6.552250\n",
       "50%       7.419000\n",
       "75%       8.100750\n",
       "max      14.313000\n",
       "Name: Unemployment, dtype: float64"
      ]
     },
     "execution_count": 26,
     "metadata": {},
     "output_type": "execute_result"
    }
   ],
   "source": [
    "df['Unemployment'].describe()"
   ]
  },
  {
   "cell_type": "code",
   "execution_count": 27,
   "metadata": {},
   "outputs": [],
   "source": [
    "df = df[df['Unemployment'].between((df['Unemployment'].mean()-3*df['Unemployment'].std()),(df['Unemployment'].mean()+3*df['Unemployment'].std()))]"
   ]
  },
  {
   "cell_type": "code",
   "execution_count": 28,
   "metadata": {},
   "outputs": [
    {
     "name": "stdout",
     "output_type": "stream",
     "text": [
      "Percentage of missing values: \n"
     ]
    },
    {
     "data": {
      "text/plain": [
       "Store            0.00\n",
       "Weekly_Sales     0.00\n",
       "Holiday_Flag    11.25\n",
       "Temperature      0.00\n",
       "Fuel_Price       0.00\n",
       "CPI              0.00\n",
       "Unemployment     0.00\n",
       "dtype: float64"
      ]
     },
     "metadata": {},
     "output_type": "display_data"
    }
   ],
   "source": [
    "print(\"Percentage of missing values: \")\n",
    "display(100*df.isnull().sum()/df.shape[0])"
   ]
  },
  {
   "cell_type": "code",
   "execution_count": 29,
   "metadata": {},
   "outputs": [],
   "source": [
    "#On remplace les valeurs manquantes par la médiane\n",
    "df['Holiday_Flag'] = df['Holiday_Flag'].fillna(df['Holiday_Flag'].median())"
   ]
  },
  {
   "cell_type": "code",
   "execution_count": 30,
   "metadata": {},
   "outputs": [
    {
     "name": "stdout",
     "output_type": "stream",
     "text": [
      "Percentage of missing values: \n"
     ]
    },
    {
     "data": {
      "text/plain": [
       "Store           0.0\n",
       "Weekly_Sales    0.0\n",
       "Holiday_Flag    0.0\n",
       "Temperature     0.0\n",
       "Fuel_Price      0.0\n",
       "CPI             0.0\n",
       "Unemployment    0.0\n",
       "dtype: float64"
      ]
     },
     "metadata": {},
     "output_type": "display_data"
    }
   ],
   "source": [
    "print(\"Percentage of missing values: \")\n",
    "display(100*df.isnull().sum()/df.shape[0])"
   ]
  },
  {
   "cell_type": "code",
   "execution_count": 31,
   "metadata": {},
   "outputs": [],
   "source": [
    "#dernières petites modification de type pour faciliter l'interprétation"
   ]
  },
  {
   "cell_type": "code",
   "execution_count": 32,
   "metadata": {},
   "outputs": [],
   "source": [
    "df['Holiday_Flag'] = df['Holiday_Flag'].astype(int)\n",
    "df['Store'] = df['Store'].astype(int)"
   ]
  },
  {
   "cell_type": "code",
   "execution_count": 33,
   "metadata": {},
   "outputs": [],
   "source": [
    "#Explanatory variables (X) We need to identify which columns contain categorical variables and which columns contain numerical variables, as they will be treated differently.\n",
    "#Categorical variables : Store, Holiday_Flag\n",
    "#Numerical variables : Temperature, Fuel_Price, CPI, Unemployment"
   ]
  },
  {
   "cell_type": "markdown",
   "metadata": {},
   "source": [
    "<B>Exploratory data analysis"
   ]
  },
  {
   "cell_type": "code",
   "execution_count": 34,
   "metadata": {},
   "outputs": [
    {
     "name": "stdout",
     "output_type": "stream",
     "text": [
      "Requirement already satisfied: kaleido in /opt/conda/lib/python3.9/site-packages (0.2.1)\n",
      "Note: you may need to restart the kernel to use updated packages.\n"
     ]
    }
   ],
   "source": [
    "pip install -U kaleido"
   ]
  },
  {
   "cell_type": "code",
   "execution_count": 35,
   "metadata": {},
   "outputs": [],
   "source": [
    "import plotly.io as pio\n",
    "import plotly.express as px\n",
    "import plotly.graph_objects as go"
   ]
  },
  {
   "cell_type": "code",
   "execution_count": 36,
   "metadata": {},
   "outputs": [
    {
     "data": {
      "text/plain": [
       "<seaborn.axisgrid.FacetGrid at 0x7fb438e93fd0>"
      ]
     },
     "execution_count": 36,
     "metadata": {},
     "output_type": "execute_result"
    },
    {
     "data": {
      "image/png": "[encoded data removed]",
      "text/plain": [
       "<Figure size 360x360 with 1 Axes>"
      ]
     },
     "metadata": {
      "needs_background": "light"
     },
     "output_type": "display_data"
    }
   ],
   "source": [
    "#regardons la répartition de la variable à prédire\n",
    "sns.displot(data=df, x=\"Weekly_Sales\", kde = True)"
   ]
  },
  {
   "cell_type": "code",
   "execution_count": 37,
   "metadata": {},
   "outputs": [
    {
     "data": {
      "image/png": "[encoded data removed]"
     },
     "metadata": {},
     "output_type": "display_data"
    }
   ],
   "source": [
    "fig = px.box(data_frame=df , x = 'Temperature')\n",
    "fig.show('png')\n",
    "#enlever png pour avoir le graphique intéractif plotly"
   ]
  },
  {
   "cell_type": "code",
   "execution_count": 38,
   "metadata": {},
   "outputs": [
    {
     "data": {
      "image/png": "[encoded data removed]"
     },
     "metadata": {},
     "output_type": "display_data"
    }
   ],
   "source": [
    "fig = px.box(data_frame=df , x = 'Unemployment')\n",
    "fig.show('png')\n",
    "#taux en pourcentage"
   ]
  },
  {
   "cell_type": "markdown",
   "metadata": {},
   "source": [
    "Nous pouvons observer que 50% sont comprises dans le rectangle, avec une médiane supérieure à 60F"
   ]
  },
  {
   "cell_type": "code",
   "execution_count": 39,
   "metadata": {},
   "outputs": [
    {
     "data": {
      "image/png": "[encoded data removed]"
     },
     "metadata": {},
     "output_type": "display_data"
    }
   ],
   "source": [
    "fig = px.box(data_frame=df, x = 'CPI')\n",
    "fig.show('png')"
   ]
  },
  {
   "cell_type": "markdown",
   "metadata": {},
   "source": [
    "CPI = Consumer Price Index (permet de mesure l'inflation"
   ]
  },
  {
   "cell_type": "code",
   "execution_count": 40,
   "metadata": {},
   "outputs": [
    {
     "data": {
      "image/png": "[encoded data removed]"
     },
     "metadata": {},
     "output_type": "display_data"
    }
   ],
   "source": [
    "fig = px.box(data_frame=df , x = 'Fuel_Price')\n",
    "fig.show('png')"
   ]
  },
  {
   "cell_type": "code",
   "execution_count": 41,
   "metadata": {},
   "outputs": [
    {
     "data": {
      "text/plain": [
       "<AxesSubplot:xlabel='Holiday_Flag', ylabel='count'>"
      ]
     },
     "execution_count": 41,
     "metadata": {},
     "output_type": "execute_result"
    },
    {
     "data": {
      "image/png": "[encoded data removed]",
      "text/plain": [
       "<Figure size 432x288 with 1 Axes>"
      ]
     },
     "metadata": {
      "needs_background": "light"
     },
     "output_type": "display_data"
    }
   ],
   "source": [
    "#regardons la répartition de la variable à prédire\n",
    "sns.countplot(data=df, x=\"Holiday_Flag\")"
   ]
  },
  {
   "cell_type": "markdown",
   "metadata": {},
   "source": [
    "Holiday Flag = 1, si la semaine est une semaine spéciale de vacances"
   ]
  },
  {
   "cell_type": "code",
   "execution_count": 42,
   "metadata": {},
   "outputs": [
    {
     "data": {
      "text/plain": [
       "<seaborn.axisgrid.FacetGrid at 0x7fb43fdb8790>"
      ]
     },
     "execution_count": 42,
     "metadata": {},
     "output_type": "execute_result"
    },
    {
     "data": {
      "image/png": "[encoded data removed]",
      "text/plain": [
       "<Figure size 1080x360 with 1 Axes>"
      ]
     },
     "metadata": {
      "needs_background": "light"
     },
     "output_type": "display_data"
    }
   ],
   "source": [
    "#le total des ventes par store\n",
    "sns.catplot(x=\"Store\", y= \"Weekly_Sales\",data=df,kind=\"bar\",height=5,aspect=3)"
   ]
  },
  {
   "cell_type": "code",
   "execution_count": 43,
   "metadata": {},
   "outputs": [
    {
     "data": {
      "text/plain": [
       "<seaborn.axisgrid.FacetGrid at 0x7fb43fddedc0>"
      ]
     },
     "execution_count": 43,
     "metadata": {},
     "output_type": "execute_result"
    },
    {
     "data": {
      "image/png": "[encoded data removed]",
      "text/plain": [
       "<Figure size 360x360 with 1 Axes>"
      ]
     },
     "metadata": {
      "needs_background": "light"
     },
     "output_type": "display_data"
    }
   ],
   "source": [
    "sns.catplot(x=\"Holiday_Flag\", y=\"Weekly_Sales\", data = df, kind=\"box\")"
   ]
  },
  {
   "cell_type": "code",
   "execution_count": 44,
   "metadata": {},
   "outputs": [
    {
     "data": {
      "image/png": "[encoded data removed]"
     },
     "metadata": {},
     "output_type": "display_data"
    }
   ],
   "source": [
    "fig = px.scatter(data_frame=df , x = 'CPI', y = 'Weekly_Sales' )\n",
    "fig.show('png')"
   ]
  },
  {
   "cell_type": "code",
   "execution_count": 45,
   "metadata": {},
   "outputs": [
    {
     "data": {
      "image/png": "[encoded data removed]"
     },
     "metadata": {},
     "output_type": "display_data"
    }
   ],
   "source": [
    "fig = px.scatter(data_frame=df , x = 'Temperature', y = 'Weekly_Sales' )\n",
    "fig.show('png')"
   ]
  },
  {
   "cell_type": "code",
   "execution_count": 46,
   "metadata": {},
   "outputs": [
    {
     "data": {
      "image/png": "[encoded data removed]"
     },
     "metadata": {},
     "output_type": "display_data"
    }
   ],
   "source": [
    "fig = px.scatter(data_frame=df , x = 'Unemployment', y = 'Weekly_Sales' )\n",
    "fig.show('png')"
   ]
  },
  {
   "cell_type": "code",
   "execution_count": 47,
   "metadata": {},
   "outputs": [
    {
     "data": {
      "image/png": "[encoded data removed]"
     },
     "metadata": {},
     "output_type": "display_data"
    }
   ],
   "source": [
    "fig = px.scatter(data_frame=df , x = 'Fuel_Price', y = 'Weekly_Sales' )\n",
    "fig.show('png')"
   ]
  },
  {
   "cell_type": "code",
   "execution_count": 48,
   "metadata": {},
   "outputs": [
    {
     "data": {
      "text/html": [
       "<div>\n",
       "<style scoped>\n",
       "    .dataframe tbody tr th:only-of-type {\n",
       "        vertical-align: middle;\n",
       "    }\n",
       "\n",
       "    .dataframe tbody tr th {\n",
       "        vertical-align: top;\n",
       "    }\n",
       "\n",
       "    .dataframe thead th {\n",
       "        text-align: right;\n",
       "    }\n",
       "</style>\n",
       "<table border=\"1\" class=\"dataframe\">\n",
       "  <thead>\n",
       "    <tr style=\"text-align: right;\">\n",
       "      <th></th>\n",
       "      <th>Store</th>\n",
       "      <th>Weekly_Sales</th>\n",
       "      <th>Holiday_Flag</th>\n",
       "      <th>Temperature</th>\n",
       "      <th>Fuel_Price</th>\n",
       "      <th>CPI</th>\n",
       "      <th>Unemployment</th>\n",
       "    </tr>\n",
       "  </thead>\n",
       "  <tbody>\n",
       "    <tr>\n",
       "      <th>Store</th>\n",
       "      <td>1.000000</td>\n",
       "      <td>0.143935</td>\n",
       "      <td>-0.026820</td>\n",
       "      <td>-0.326788</td>\n",
       "      <td>0.189832</td>\n",
       "      <td>-0.576600</td>\n",
       "      <td>0.257358</td>\n",
       "    </tr>\n",
       "    <tr>\n",
       "      <th>Weekly_Sales</th>\n",
       "      <td>0.143935</td>\n",
       "      <td>1.000000</td>\n",
       "      <td>0.001822</td>\n",
       "      <td>-0.084087</td>\n",
       "      <td>-0.012375</td>\n",
       "      <td>-0.424322</td>\n",
       "      <td>0.081263</td>\n",
       "    </tr>\n",
       "    <tr>\n",
       "      <th>Holiday_Flag</th>\n",
       "      <td>-0.026820</td>\n",
       "      <td>0.001822</td>\n",
       "      <td>1.000000</td>\n",
       "      <td>-0.327194</td>\n",
       "      <td>-0.197865</td>\n",
       "      <td>0.189467</td>\n",
       "      <td>0.088495</td>\n",
       "    </tr>\n",
       "    <tr>\n",
       "      <th>Temperature</th>\n",
       "      <td>-0.326788</td>\n",
       "      <td>-0.084087</td>\n",
       "      <td>-0.327194</td>\n",
       "      <td>1.000000</td>\n",
       "      <td>-0.091914</td>\n",
       "      <td>0.198291</td>\n",
       "      <td>-0.245277</td>\n",
       "    </tr>\n",
       "    <tr>\n",
       "      <th>Fuel_Price</th>\n",
       "      <td>0.189832</td>\n",
       "      <td>-0.012375</td>\n",
       "      <td>-0.197865</td>\n",
       "      <td>-0.091914</td>\n",
       "      <td>1.000000</td>\n",
       "      <td>-0.242058</td>\n",
       "      <td>-0.037071</td>\n",
       "    </tr>\n",
       "    <tr>\n",
       "      <th>CPI</th>\n",
       "      <td>-0.576600</td>\n",
       "      <td>-0.424322</td>\n",
       "      <td>0.189467</td>\n",
       "      <td>0.198291</td>\n",
       "      <td>-0.242058</td>\n",
       "      <td>1.000000</td>\n",
       "      <td>-0.091395</td>\n",
       "    </tr>\n",
       "    <tr>\n",
       "      <th>Unemployment</th>\n",
       "      <td>0.257358</td>\n",
       "      <td>0.081263</td>\n",
       "      <td>0.088495</td>\n",
       "      <td>-0.245277</td>\n",
       "      <td>-0.037071</td>\n",
       "      <td>-0.091395</td>\n",
       "      <td>1.000000</td>\n",
       "    </tr>\n",
       "  </tbody>\n",
       "</table>\n",
       "</div>"
      ],
      "text/plain": [
       "                 Store  Weekly_Sales  Holiday_Flag  Temperature  Fuel_Price  \\\n",
       "Store         1.000000      0.143935     -0.026820    -0.326788    0.189832   \n",
       "Weekly_Sales  0.143935      1.000000      0.001822    -0.084087   -0.012375   \n",
       "Holiday_Flag -0.026820      0.001822      1.000000    -0.327194   -0.197865   \n",
       "Temperature  -0.326788     -0.084087     -0.327194     1.000000   -0.091914   \n",
       "Fuel_Price    0.189832     -0.012375     -0.197865    -0.091914    1.000000   \n",
       "CPI          -0.576600     -0.424322      0.189467     0.198291   -0.242058   \n",
       "Unemployment  0.257358      0.081263      0.088495    -0.245277   -0.037071   \n",
       "\n",
       "                   CPI  Unemployment  \n",
       "Store        -0.576600      0.257358  \n",
       "Weekly_Sales -0.424322      0.081263  \n",
       "Holiday_Flag  0.189467      0.088495  \n",
       "Temperature   0.198291     -0.245277  \n",
       "Fuel_Price   -0.242058     -0.037071  \n",
       "CPI           1.000000     -0.091395  \n",
       "Unemployment -0.091395      1.000000  "
      ]
     },
     "execution_count": 48,
     "metadata": {},
     "output_type": "execute_result"
    }
   ],
   "source": [
    "#regardons les corrélations entre les variables\n",
    "corr = df.corr()\n",
    "corr"
   ]
  },
  {
   "cell_type": "code",
   "execution_count": 49,
   "metadata": {},
   "outputs": [
    {
     "data": {
      "text/plain": [
       "<AxesSubplot:>"
      ]
     },
     "execution_count": 49,
     "metadata": {},
     "output_type": "execute_result"
    },
    {
     "data": {
      "image/png": "[encoded data removed]",
      "text/plain": [
       "<Figure size 648x432 with 2 Axes>"
      ]
     },
     "metadata": {
      "needs_background": "light"
     },
     "output_type": "display_data"
    }
   ],
   "source": [
    "f, ax = plt.subplots(figsize = (9,6))\n",
    "sns.heatmap(corr, annot = True, ax = ax)"
   ]
  },
  {
   "cell_type": "markdown",
   "metadata": {},
   "source": [
    "<b>Machine Learning"
   ]
  },
  {
   "cell_type": "code",
   "execution_count": 50,
   "metadata": {},
   "outputs": [],
   "source": [
    "from sklearn.model_selection import train_test_split\n",
    "from sklearn.pipeline import Pipeline\n",
    "from sklearn.impute import SimpleImputer\n",
    "from sklearn.preprocessing import  OneHotEncoder, StandardScaler, LabelEncoder\n",
    "from sklearn.compose import ColumnTransformer\n",
    "from sklearn.linear_model import LinearRegression\n",
    "from sklearn.metrics import accuracy_score\n",
    "from sklearn.metrics import r2_score\n",
    "from sklearn.metrics import mean_squared_error\n",
    "from sklearn.metrics import mean_absolute_error\n",
    "from sklearn.model_selection import cross_val_score, GridSearchCV\n",
    "import warnings\n",
    "warnings.filterwarnings(\"ignore\", category=DeprecationWarning) # to avoid deprecation warnings"
   ]
  },
  {
   "cell_type": "code",
   "execution_count": 51,
   "metadata": {},
   "outputs": [],
   "source": [
    "#Explanatory variables (X) We need to identify which columns contain categorical variables and which columns contain numerical variables, as they will be treated differently.\n",
    "#Categorical variables : Store, Holiday_Flag\n",
    "#Numerical variables : Temperature, Fuel_Price, CPI, Unemployment, Year, Month, Day, DayOfWeek"
   ]
  },
  {
   "cell_type": "code",
   "execution_count": 52,
   "metadata": {},
   "outputs": [
    {
     "name": "stdout",
     "output_type": "stream",
     "text": [
      "Separating labels from features...\n",
      "...Done.\n",
      "\n"
     ]
    }
   ],
   "source": [
    "print(\"Separating labels from features...\")\n",
    "\n",
    "X = df.drop(['Weekly_Sales'],axis=1)\n",
    "Y = df.loc[:,'Weekly_Sales']\n",
    "\n",
    "print(\"...Done.\")\n",
    "print()"
   ]
  },
  {
   "cell_type": "code",
   "execution_count": 53,
   "metadata": {},
   "outputs": [
    {
     "data": {
      "text/html": [
       "<div>\n",
       "<style scoped>\n",
       "    .dataframe tbody tr th:only-of-type {\n",
       "        vertical-align: middle;\n",
       "    }\n",
       "\n",
       "    .dataframe tbody tr th {\n",
       "        vertical-align: top;\n",
       "    }\n",
       "\n",
       "    .dataframe thead th {\n",
       "        text-align: right;\n",
       "    }\n",
       "</style>\n",
       "<table border=\"1\" class=\"dataframe\">\n",
       "  <thead>\n",
       "    <tr style=\"text-align: right;\">\n",
       "      <th></th>\n",
       "      <th>Store</th>\n",
       "      <th>Holiday_Flag</th>\n",
       "      <th>Temperature</th>\n",
       "      <th>Fuel_Price</th>\n",
       "      <th>CPI</th>\n",
       "      <th>Unemployment</th>\n",
       "    </tr>\n",
       "  </thead>\n",
       "  <tbody>\n",
       "    <tr>\n",
       "      <th>0</th>\n",
       "      <td>6</td>\n",
       "      <td>0</td>\n",
       "      <td>59.61</td>\n",
       "      <td>3.045</td>\n",
       "      <td>214.777523</td>\n",
       "      <td>6.858</td>\n",
       "    </tr>\n",
       "    <tr>\n",
       "      <th>1</th>\n",
       "      <td>13</td>\n",
       "      <td>0</td>\n",
       "      <td>42.38</td>\n",
       "      <td>3.435</td>\n",
       "      <td>128.616064</td>\n",
       "      <td>7.470</td>\n",
       "    </tr>\n",
       "    <tr>\n",
       "      <th>4</th>\n",
       "      <td>6</td>\n",
       "      <td>0</td>\n",
       "      <td>78.89</td>\n",
       "      <td>2.759</td>\n",
       "      <td>212.412888</td>\n",
       "      <td>7.092</td>\n",
       "    </tr>\n",
       "    <tr>\n",
       "      <th>6</th>\n",
       "      <td>15</td>\n",
       "      <td>0</td>\n",
       "      <td>69.80</td>\n",
       "      <td>4.069</td>\n",
       "      <td>134.855161</td>\n",
       "      <td>7.658</td>\n",
       "    </tr>\n",
       "    <tr>\n",
       "      <th>7</th>\n",
       "      <td>20</td>\n",
       "      <td>0</td>\n",
       "      <td>39.93</td>\n",
       "      <td>3.617</td>\n",
       "      <td>213.023622</td>\n",
       "      <td>6.961</td>\n",
       "    </tr>\n",
       "  </tbody>\n",
       "</table>\n",
       "</div>"
      ],
      "text/plain": [
       "   Store  Holiday_Flag  Temperature  Fuel_Price         CPI  Unemployment\n",
       "0      6             0        59.61       3.045  214.777523         6.858\n",
       "1     13             0        42.38       3.435  128.616064         7.470\n",
       "4      6             0        78.89       2.759  212.412888         7.092\n",
       "6     15             0        69.80       4.069  134.855161         7.658\n",
       "7     20             0        39.93       3.617  213.023622         6.961"
      ]
     },
     "execution_count": 53,
     "metadata": {},
     "output_type": "execute_result"
    }
   ],
   "source": [
    "X.head()"
   ]
  },
  {
   "cell_type": "code",
   "execution_count": 54,
   "metadata": {},
   "outputs": [
    {
     "data": {
      "text/plain": [
       "0    1572117.54\n",
       "1    1807545.43\n",
       "4    1644470.66\n",
       "6     695396.19\n",
       "7    2203523.20\n",
       "Name: Weekly_Sales, dtype: float64"
      ]
     },
     "execution_count": 54,
     "metadata": {},
     "output_type": "execute_result"
    }
   ],
   "source": [
    "Y.head()"
   ]
  },
  {
   "cell_type": "code",
   "execution_count": 55,
   "metadata": {},
   "outputs": [
    {
     "name": "stdout",
     "output_type": "stream",
     "text": [
      "Dividing into train and test sets...\n",
      "...Done.\n"
     ]
    }
   ],
   "source": [
    "print(\"Dividing into train and test sets...\")\n",
    "X_train, X_test, Y_train, Y_test = train_test_split(X, Y, test_size=0.2,\n",
    "                                                    random_state=0)\n",
    "print(\"...Done.\")"
   ]
  },
  {
   "cell_type": "code",
   "execution_count": 56,
   "metadata": {},
   "outputs": [
    {
     "name": "stdout",
     "output_type": "stream",
     "text": [
      "Convert pandas DataFrames to numpy arrays...\n",
      "...Done\n",
      "[[ 15.          0.         69.8         4.069     134.8551613   7.658    ]\n",
      " [  4.          0.         81.85        3.57      129.0663      5.946    ]\n",
      " [  7.          0.         36.61        3.767     192.826069    8.595    ]\n",
      " [  1.          1.         38.51        2.548     211.2421698   8.106    ]\n",
      " [ 18.          0.         73.67        2.792     132.6141935   9.342    ]]\n",
      "[[  2.          0.         44.69        2.976     211.0648881   8.028    ]\n",
      " [  2.          0.         54.63        3.555     220.275944    7.057    ]]\n",
      "\n",
      "[ 695396.19 2008344.92  414094.05 1641957.44 1166117.85]\n",
      "[1758050.79 1861802.7 ]\n"
     ]
    }
   ],
   "source": [
    "print(\"Convert pandas DataFrames to numpy arrays...\")\n",
    "X_train = X_train.values\n",
    "X_test = X_test.values\n",
    "Y_train = Y_train.values\n",
    "Y_test = Y_test.values\n",
    "print(\"...Done\")\n",
    "\n",
    "print(X_train[0:5,:])\n",
    "print(X_test[0:2,:])\n",
    "print()\n",
    "print(Y_train[0:5])\n",
    "print(Y_test[0:2])"
   ]
  },
  {
   "cell_type": "code",
   "execution_count": 57,
   "metadata": {},
   "outputs": [
    {
     "data": {
      "text/html": [
       "<div>\n",
       "<style scoped>\n",
       "    .dataframe tbody tr th:only-of-type {\n",
       "        vertical-align: middle;\n",
       "    }\n",
       "\n",
       "    .dataframe tbody tr th {\n",
       "        vertical-align: top;\n",
       "    }\n",
       "\n",
       "    .dataframe thead th {\n",
       "        text-align: right;\n",
       "    }\n",
       "</style>\n",
       "<table border=\"1\" class=\"dataframe\">\n",
       "  <thead>\n",
       "    <tr style=\"text-align: right;\">\n",
       "      <th></th>\n",
       "      <th>Store</th>\n",
       "      <th>Holiday_Flag</th>\n",
       "      <th>Temperature</th>\n",
       "      <th>Fuel_Price</th>\n",
       "      <th>CPI</th>\n",
       "      <th>Unemployment</th>\n",
       "    </tr>\n",
       "  </thead>\n",
       "  <tbody>\n",
       "    <tr>\n",
       "      <th>0</th>\n",
       "      <td>6</td>\n",
       "      <td>0</td>\n",
       "      <td>59.61</td>\n",
       "      <td>3.045</td>\n",
       "      <td>214.777523</td>\n",
       "      <td>6.858</td>\n",
       "    </tr>\n",
       "    <tr>\n",
       "      <th>1</th>\n",
       "      <td>13</td>\n",
       "      <td>0</td>\n",
       "      <td>42.38</td>\n",
       "      <td>3.435</td>\n",
       "      <td>128.616064</td>\n",
       "      <td>7.470</td>\n",
       "    </tr>\n",
       "    <tr>\n",
       "      <th>4</th>\n",
       "      <td>6</td>\n",
       "      <td>0</td>\n",
       "      <td>78.89</td>\n",
       "      <td>2.759</td>\n",
       "      <td>212.412888</td>\n",
       "      <td>7.092</td>\n",
       "    </tr>\n",
       "    <tr>\n",
       "      <th>6</th>\n",
       "      <td>15</td>\n",
       "      <td>0</td>\n",
       "      <td>69.80</td>\n",
       "      <td>4.069</td>\n",
       "      <td>134.855161</td>\n",
       "      <td>7.658</td>\n",
       "    </tr>\n",
       "    <tr>\n",
       "      <th>7</th>\n",
       "      <td>20</td>\n",
       "      <td>0</td>\n",
       "      <td>39.93</td>\n",
       "      <td>3.617</td>\n",
       "      <td>213.023622</td>\n",
       "      <td>6.961</td>\n",
       "    </tr>\n",
       "    <tr>\n",
       "      <th>...</th>\n",
       "      <td>...</td>\n",
       "      <td>...</td>\n",
       "      <td>...</td>\n",
       "      <td>...</td>\n",
       "      <td>...</td>\n",
       "      <td>...</td>\n",
       "    </tr>\n",
       "    <tr>\n",
       "      <th>139</th>\n",
       "      <td>7</td>\n",
       "      <td>0</td>\n",
       "      <td>50.60</td>\n",
       "      <td>3.804</td>\n",
       "      <td>197.588605</td>\n",
       "      <td>8.090</td>\n",
       "    </tr>\n",
       "    <tr>\n",
       "      <th>143</th>\n",
       "      <td>3</td>\n",
       "      <td>0</td>\n",
       "      <td>78.53</td>\n",
       "      <td>2.705</td>\n",
       "      <td>214.495838</td>\n",
       "      <td>7.343</td>\n",
       "    </tr>\n",
       "    <tr>\n",
       "      <th>144</th>\n",
       "      <td>3</td>\n",
       "      <td>0</td>\n",
       "      <td>73.44</td>\n",
       "      <td>3.594</td>\n",
       "      <td>226.968844</td>\n",
       "      <td>6.034</td>\n",
       "    </tr>\n",
       "    <tr>\n",
       "      <th>145</th>\n",
       "      <td>14</td>\n",
       "      <td>0</td>\n",
       "      <td>72.62</td>\n",
       "      <td>2.780</td>\n",
       "      <td>182.442420</td>\n",
       "      <td>8.899</td>\n",
       "    </tr>\n",
       "    <tr>\n",
       "      <th>149</th>\n",
       "      <td>19</td>\n",
       "      <td>0</td>\n",
       "      <td>55.20</td>\n",
       "      <td>4.170</td>\n",
       "      <td>137.923067</td>\n",
       "      <td>8.150</td>\n",
       "    </tr>\n",
       "  </tbody>\n",
       "</table>\n",
       "<p>80 rows × 6 columns</p>\n",
       "</div>"
      ],
      "text/plain": [
       "     Store  Holiday_Flag  Temperature  Fuel_Price         CPI  Unemployment\n",
       "0        6             0        59.61       3.045  214.777523         6.858\n",
       "1       13             0        42.38       3.435  128.616064         7.470\n",
       "4        6             0        78.89       2.759  212.412888         7.092\n",
       "6       15             0        69.80       4.069  134.855161         7.658\n",
       "7       20             0        39.93       3.617  213.023622         6.961\n",
       "..     ...           ...          ...         ...         ...           ...\n",
       "139      7             0        50.60       3.804  197.588605         8.090\n",
       "143      3             0        78.53       2.705  214.495838         7.343\n",
       "144      3             0        73.44       3.594  226.968844         6.034\n",
       "145     14             0        72.62       2.780  182.442420         8.899\n",
       "149     19             0        55.20       4.170  137.923067         8.150\n",
       "\n",
       "[80 rows x 6 columns]"
      ]
     },
     "execution_count": 57,
     "metadata": {},
     "output_type": "execute_result"
    }
   ],
   "source": [
    "X"
   ]
  },
  {
   "cell_type": "code",
   "execution_count": 58,
   "metadata": {},
   "outputs": [],
   "source": [
    "# Create pipeline for categorical features\n",
    "categorical_features = [0,1] # Positions of categorical columns in X_train/X_test\n",
    "categorical_transformer = Pipeline(\n",
    "    steps=[ # missing values will be replaced by most frequent value\n",
    "    ('one', OneHotEncoder(drop='first')) # first column will be dropped to avoid creating correlations between features\n",
    "    ])"
   ]
  },
  {
   "cell_type": "code",
   "execution_count": 59,
   "metadata": {},
   "outputs": [],
   "source": [
    "# Create pipeline for numeric features\n",
    "numeric_features = [2,3,4,5] # Positions of numeric columns in X_train/X_test\n",
    "numeric_transformer = Pipeline(steps=[ \n",
    "    ('scaler', StandardScaler())\n",
    "])"
   ]
  },
  {
   "cell_type": "code",
   "execution_count": 60,
   "metadata": {},
   "outputs": [],
   "source": [
    "# Use ColumnTransformer to make a preprocessor object that describes all the treatments to be done\n",
    "preprocessor = ColumnTransformer(\n",
    "    transformers=[\n",
    "        ('num', numeric_transformer, numeric_features),\n",
    "        ('cat', categorical_transformer, categorical_features)\n",
    "    ])"
   ]
  },
  {
   "cell_type": "code",
   "execution_count": 61,
   "metadata": {},
   "outputs": [
    {
     "name": "stdout",
     "output_type": "stream",
     "text": [
      "Performing preprocessings on train set...\n",
      "...Done.\n",
      "Performing preprocessings on test set...\n"
     ]
    }
   ],
   "source": [
    "# Preprocessings on train set\n",
    "print(\"Performing preprocessings on train set...\")\n",
    "\n",
    "X_train = preprocessor.fit_transform(X_train)\n",
    "print('...Done.')\n",
    "\n",
    "\n",
    "# Preprocessings on test set\n",
    "print(\"Performing preprocessings on test set...\")\n",
    "\n",
    "X_test = preprocessor.transform(X_test) # Don't fit again !! The test set is used for validating decisions\n",
    "# we made based on the training set, therefore we can only apply transformations that were parametered using the training set.\n",
    "# Otherwise this creates what is called a leak from the test set which will introduce a bias in all your results.\n"
   ]
  },
  {
   "cell_type": "code",
   "execution_count": 62,
   "metadata": {},
   "outputs": [
    {
     "name": "stdout",
     "output_type": "stream",
     "text": [
      "Train model...\n",
      "...Done.\n"
     ]
    }
   ],
   "source": [
    "# Train model\n",
    "print(\"Train model...\")\n",
    "regressor = LinearRegression()\n",
    "regressor.fit(X_train, Y_train)\n",
    "print(\"...Done.\")"
   ]
  },
  {
   "cell_type": "markdown",
   "metadata": {},
   "source": [
    "<B> EVALUATION DU MODEL SUR LE JEU DE DONNEES D'ENTRAINEMENT"
   ]
  },
  {
   "cell_type": "code",
   "execution_count": 63,
   "metadata": {},
   "outputs": [
    {
     "name": "stdout",
     "output_type": "stream",
     "text": [
      "Score on training\n",
      "Linear Regression R_2 Score :  0.9766794787893393\n",
      "Linear Regression mean squared error :  10585582031.447687\n",
      "Linear Regression mean absolute error :  78316.80743206914\n"
     ]
    }
   ],
   "source": [
    "print(\"Score on training\")\n",
    "Y_train_predict= regressor.predict(X_train)\n",
    "print(\"Linear Regression R_2 Score : \", r2_score(Y_train, Y_train_predict))\n",
    "print(\"Linear Regression mean squared error : \", mean_squared_error(Y_train, Y_train_predict))\n",
    "print(\"Linear Regression mean absolute error : \", mean_absolute_error(Y_train, Y_train_predict))"
   ]
  },
  {
   "cell_type": "markdown",
   "metadata": {},
   "source": [
    "<B> EVALUATION DU MODEL SUR LE JEU DE DONNEES TEST"
   ]
  },
  {
   "cell_type": "code",
   "execution_count": 64,
   "metadata": {},
   "outputs": [
    {
     "name": "stdout",
     "output_type": "stream",
     "text": [
      "Score on test\n",
      "Linear Regression R_2 Score :  0.9649502268607824\n",
      "Linear Regression mean squared error :  16268160303.547886\n",
      "Linear Regression mean absolute error :  117563.82302847589\n"
     ]
    }
   ],
   "source": [
    "print(\"Score on test\")\n",
    "Y_test_predict= regressor.predict(X_test)\n",
    "print(\"Linear Regression R_2 Score : \", r2_score(Y_test, Y_test_predict))\n",
    "print(\"Linear Regression mean squared error : \", mean_squared_error(Y_test, Y_test_predict))\n",
    "print(\"Linear Regression mean absolute error : \", mean_absolute_error(Y_test, Y_test_predict))"
   ]
  },
  {
   "cell_type": "markdown",
   "metadata": {},
   "source": [
    "Il n'y a pas d'overfitting"
   ]
  },
  {
   "cell_type": "code",
   "execution_count": 65,
   "metadata": {},
   "outputs": [
    {
     "data": {
      "text/plain": [
       "array([  -42994.5531989 ,  -119227.73596467,   966303.57707616,\n",
       "         -51223.95259721,   285716.48387426, -1343762.4925805 ,\n",
       "        2725258.92353837, -1369231.83982817,   -65738.4848601 ,\n",
       "        -492605.57498765,  -861048.44048124, -1283532.69047637,\n",
       "        2511481.83893111,   153296.77502188,  2547782.84091153,\n",
       "        1271938.73724562,  1163167.15871727,  -646644.23149478,\n",
       "        1267496.2285953 ,  1508384.44326354,  1821946.3708458 ,\n",
       "         548858.3810668 ,  -116871.43138366])"
      ]
     },
     "execution_count": 65,
     "metadata": {},
     "output_type": "execute_result"
    }
   ],
   "source": [
    "regressor.coef_"
   ]
  },
  {
   "cell_type": "code",
   "execution_count": 66,
   "metadata": {},
   "outputs": [],
   "source": [
    "list_tranform = list(X.columns)+list(preprocessor.named_transformers_['cat'].named_steps['one'].get_feature_names_out(input_features=X.columns[categorical_features]))"
   ]
  },
  {
   "cell_type": "code",
   "execution_count": 67,
   "metadata": {},
   "outputs": [],
   "source": [
    "data_coef_reg = pd.concat([pd.DataFrame(list_tranform),pd.DataFrame(np.transpose(abs(regressor.coef_)))], axis = 1)"
   ]
  },
  {
   "cell_type": "code",
   "execution_count": 68,
   "metadata": {},
   "outputs": [],
   "source": [
    "data_coef_reg.columns = ['Features_name','coef']"
   ]
  },
  {
   "cell_type": "code",
   "execution_count": 69,
   "metadata": {},
   "outputs": [
    {
     "data": {
      "text/html": [
       "<div>\n",
       "<style scoped>\n",
       "    .dataframe tbody tr th:only-of-type {\n",
       "        vertical-align: middle;\n",
       "    }\n",
       "\n",
       "    .dataframe tbody tr th {\n",
       "        vertical-align: top;\n",
       "    }\n",
       "\n",
       "    .dataframe thead th {\n",
       "        text-align: right;\n",
       "    }\n",
       "</style>\n",
       "<table border=\"1\" class=\"dataframe\">\n",
       "  <thead>\n",
       "    <tr style=\"text-align: right;\">\n",
       "      <th></th>\n",
       "      <th>Features_name</th>\n",
       "      <th>coef</th>\n",
       "    </tr>\n",
       "  </thead>\n",
       "  <tbody>\n",
       "    <tr>\n",
       "      <th>6</th>\n",
       "      <td>Store_2.0</td>\n",
       "      <td>2.725259e+06</td>\n",
       "    </tr>\n",
       "    <tr>\n",
       "      <th>14</th>\n",
       "      <td>Store_10.0</td>\n",
       "      <td>2.547783e+06</td>\n",
       "    </tr>\n",
       "    <tr>\n",
       "      <th>12</th>\n",
       "      <td>Store_8.0</td>\n",
       "      <td>2.511482e+06</td>\n",
       "    </tr>\n",
       "    <tr>\n",
       "      <th>20</th>\n",
       "      <td>Store_17.0</td>\n",
       "      <td>1.821946e+06</td>\n",
       "    </tr>\n",
       "    <tr>\n",
       "      <th>19</th>\n",
       "      <td>Store_16.0</td>\n",
       "      <td>1.508384e+06</td>\n",
       "    </tr>\n",
       "    <tr>\n",
       "      <th>7</th>\n",
       "      <td>Store_3.0</td>\n",
       "      <td>1.369232e+06</td>\n",
       "    </tr>\n",
       "    <tr>\n",
       "      <th>5</th>\n",
       "      <td>Unemployment</td>\n",
       "      <td>1.343762e+06</td>\n",
       "    </tr>\n",
       "    <tr>\n",
       "      <th>11</th>\n",
       "      <td>Store_7.0</td>\n",
       "      <td>1.283533e+06</td>\n",
       "    </tr>\n",
       "    <tr>\n",
       "      <th>15</th>\n",
       "      <td>Store_11.0</td>\n",
       "      <td>1.271939e+06</td>\n",
       "    </tr>\n",
       "    <tr>\n",
       "      <th>18</th>\n",
       "      <td>Store_15.0</td>\n",
       "      <td>1.267496e+06</td>\n",
       "    </tr>\n",
       "    <tr>\n",
       "      <th>16</th>\n",
       "      <td>Store_13.0</td>\n",
       "      <td>1.163167e+06</td>\n",
       "    </tr>\n",
       "    <tr>\n",
       "      <th>2</th>\n",
       "      <td>Temperature</td>\n",
       "      <td>9.663036e+05</td>\n",
       "    </tr>\n",
       "    <tr>\n",
       "      <th>10</th>\n",
       "      <td>Store_6.0</td>\n",
       "      <td>8.610484e+05</td>\n",
       "    </tr>\n",
       "    <tr>\n",
       "      <th>17</th>\n",
       "      <td>Store_14.0</td>\n",
       "      <td>6.466442e+05</td>\n",
       "    </tr>\n",
       "    <tr>\n",
       "      <th>21</th>\n",
       "      <td>Store_18.0</td>\n",
       "      <td>5.488584e+05</td>\n",
       "    </tr>\n",
       "    <tr>\n",
       "      <th>9</th>\n",
       "      <td>Store_5.0</td>\n",
       "      <td>4.926056e+05</td>\n",
       "    </tr>\n",
       "    <tr>\n",
       "      <th>4</th>\n",
       "      <td>CPI</td>\n",
       "      <td>2.857165e+05</td>\n",
       "    </tr>\n",
       "    <tr>\n",
       "      <th>13</th>\n",
       "      <td>Store_9.0</td>\n",
       "      <td>1.532968e+05</td>\n",
       "    </tr>\n",
       "    <tr>\n",
       "      <th>1</th>\n",
       "      <td>Holiday_Flag</td>\n",
       "      <td>1.192277e+05</td>\n",
       "    </tr>\n",
       "    <tr>\n",
       "      <th>22</th>\n",
       "      <td>Store_19.0</td>\n",
       "      <td>1.168714e+05</td>\n",
       "    </tr>\n",
       "    <tr>\n",
       "      <th>8</th>\n",
       "      <td>Store_4.0</td>\n",
       "      <td>6.573848e+04</td>\n",
       "    </tr>\n",
       "    <tr>\n",
       "      <th>3</th>\n",
       "      <td>Fuel_Price</td>\n",
       "      <td>5.122395e+04</td>\n",
       "    </tr>\n",
       "    <tr>\n",
       "      <th>0</th>\n",
       "      <td>Store</td>\n",
       "      <td>4.299455e+04</td>\n",
       "    </tr>\n",
       "    <tr>\n",
       "      <th>23</th>\n",
       "      <td>Store_20.0</td>\n",
       "      <td>NaN</td>\n",
       "    </tr>\n",
       "    <tr>\n",
       "      <th>24</th>\n",
       "      <td>Holiday_Flag_1.0</td>\n",
       "      <td>NaN</td>\n",
       "    </tr>\n",
       "  </tbody>\n",
       "</table>\n",
       "</div>"
      ],
      "text/plain": [
       "       Features_name          coef\n",
       "6          Store_2.0  2.725259e+06\n",
       "14        Store_10.0  2.547783e+06\n",
       "12         Store_8.0  2.511482e+06\n",
       "20        Store_17.0  1.821946e+06\n",
       "19        Store_16.0  1.508384e+06\n",
       "7          Store_3.0  1.369232e+06\n",
       "5       Unemployment  1.343762e+06\n",
       "11         Store_7.0  1.283533e+06\n",
       "15        Store_11.0  1.271939e+06\n",
       "18        Store_15.0  1.267496e+06\n",
       "16        Store_13.0  1.163167e+06\n",
       "2        Temperature  9.663036e+05\n",
       "10         Store_6.0  8.610484e+05\n",
       "17        Store_14.0  6.466442e+05\n",
       "21        Store_18.0  5.488584e+05\n",
       "9          Store_5.0  4.926056e+05\n",
       "4                CPI  2.857165e+05\n",
       "13         Store_9.0  1.532968e+05\n",
       "1       Holiday_Flag  1.192277e+05\n",
       "22        Store_19.0  1.168714e+05\n",
       "8          Store_4.0  6.573848e+04\n",
       "3         Fuel_Price  5.122395e+04\n",
       "0              Store  4.299455e+04\n",
       "23        Store_20.0           NaN\n",
       "24  Holiday_Flag_1.0           NaN"
      ]
     },
     "execution_count": 69,
     "metadata": {},
     "output_type": "execute_result"
    }
   ],
   "source": [
    "#coefficient en valeur absolue\n",
    "data_coef_reg.sort_values(by='coef',ascending=False)"
   ]
  },
  {
   "cell_type": "markdown",
   "metadata": {},
   "source": [
    "Il manque 2 coefficients car on a encodé en supprimant à chaque fois une catégorie"
   ]
  },
  {
   "cell_type": "markdown",
   "metadata": {},
   "source": [
    "Etudions la P-value pour comprendre quelles sont les coefficients qui ne sont pas statistiquement significants"
   ]
  },
  {
   "cell_type": "code",
   "execution_count": 70,
   "metadata": {},
   "outputs": [
    {
     "name": "stderr",
     "output_type": "stream",
     "text": [
      "/opt/conda/lib/python3.9/site-packages/statsmodels/compat/pandas.py:65: FutureWarning:\n",
      "\n",
      "pandas.Int64Index is deprecated and will be removed from pandas in a future version. Use pandas.Index with the appropriate dtype instead.\n",
      "\n"
     ]
    }
   ],
   "source": [
    "import statsmodels.api as sm"
   ]
  },
  {
   "cell_type": "code",
   "execution_count": 71,
   "metadata": {},
   "outputs": [
    {
     "name": "stdout",
     "output_type": "stream",
     "text": [
      "                            OLS Regression Results                            \n",
      "==============================================================================\n",
      "Dep. Variable:                      y   R-squared:                       0.977\n",
      "Model:                            OLS   Adj. R-squared:                  0.963\n",
      "Method:                 Least Squares   F-statistic:                     72.84\n",
      "Date:                Tue, 31 May 2022   Prob (F-statistic):           9.08e-26\n",
      "Time:                        14:41:03   Log-Likelihood:                -829.46\n",
      "No. Observations:                  64   AIC:                             1707.\n",
      "Df Residuals:                      40   BIC:                             1759.\n",
      "Df Model:                          23                                         \n",
      "Covariance Type:            nonrobust                                         \n",
      "==============================================================================\n",
      "                 coef    std err          t      P>|t|      [0.025      0.975]\n",
      "------------------------------------------------------------------------------\n",
      "const       6.571e+05   4.23e+05      1.554      0.128   -1.98e+05    1.51e+06\n",
      "x1         -4.299e+04   2.13e+04     -2.020      0.050    -8.6e+04      23.514\n",
      "x2         -1.192e+05   3.46e+04     -3.441      0.001   -1.89e+05   -4.92e+04\n",
      "x3          9.663e+05   4.04e+05      2.391      0.022    1.49e+05    1.78e+06\n",
      "x4         -5.122e+04   5.25e+04     -0.975      0.335   -1.57e+05     5.5e+04\n",
      "x5          2.857e+05   1.53e+05      1.862      0.070   -2.44e+04    5.96e+05\n",
      "x6         -1.344e+06   1.09e+05    -12.344      0.000   -1.56e+06   -1.12e+06\n",
      "x7          2.725e+06    9.4e+05      2.898      0.006    8.25e+05    4.63e+06\n",
      "x8         -1.369e+06   1.29e+05    -10.603      0.000   -1.63e+06   -1.11e+06\n",
      "x9         -6.574e+04   1.18e+05     -0.556      0.581   -3.05e+05    1.73e+05\n",
      "x10        -4.926e+05   2.33e+05     -2.114      0.041   -9.64e+05   -2.16e+04\n",
      "x11         -8.61e+05   1.29e+05     -6.660      0.000   -1.12e+06      -6e+05\n",
      "x12        -1.284e+06   1.47e+05     -8.716      0.000   -1.58e+06   -9.86e+05\n",
      "x13         2.511e+06   9.15e+05      2.744      0.009    6.62e+05    4.36e+06\n",
      "x14         1.533e+05   1.62e+05      0.945      0.351   -1.75e+05    4.81e+05\n",
      "x15         2.548e+06    9.2e+05      2.770      0.008    6.89e+05    4.41e+06\n",
      "x16         1.272e+06   3.16e+05      4.028      0.000    6.34e+05    1.91e+06\n",
      "x17         1.163e+06   8.65e+05      1.344      0.186   -5.86e+05    2.91e+06\n",
      "x18        -6.466e+05   2.98e+05     -2.171      0.036   -1.25e+06   -4.47e+04\n",
      "x19         1.267e+06   9.38e+05      1.351      0.184   -6.29e+05    3.16e+06\n",
      "x20         1.508e+06   8.24e+05      1.831      0.075   -1.56e+05    3.17e+06\n",
      "x21         1.822e+06   8.48e+05      2.147      0.038    1.07e+05    3.54e+06\n",
      "x22         5.489e+05   1.38e+05      3.977      0.000     2.7e+05    8.28e+05\n",
      "x23        -1.169e+05   7.86e+04     -1.487      0.145   -2.76e+05    4.19e+04\n",
      "==============================================================================\n",
      "Omnibus:                       11.192   Durbin-Watson:                   2.140\n",
      "Prob(Omnibus):                  0.004   Jarque-Bera (JB):               12.106\n",
      "Skew:                           0.809   Prob(JB):                      0.00235\n",
      "Kurtosis:                       4.387   Cond. No.                         184.\n",
      "==============================================================================\n",
      "\n",
      "Notes:\n",
      "[1] Standard Errors assume that the covariance matrix of the errors is correctly specified.\n"
     ]
    }
   ],
   "source": [
    "X_stats=X_train.toarray()\n",
    "Y_stats=Y_train\n",
    "\n",
    "X_stats = sm.add_constant(X_stats)\n",
    "model_ = sm.OLS(Y_stats, X_stats)\n",
    "results = model_.fit()\n",
    "print(results.summary())"
   ]
  },
  {
   "cell_type": "code",
   "execution_count": 72,
   "metadata": {},
   "outputs": [
    {
     "data": {
      "text/plain": [
       "array([ True,  True, False, False,  True,  True, False, False, False,\n",
       "        True, False, False, False, False,  True, False, False,  True,\n",
       "       False,  True,  True, False, False,  True])"
      ]
     },
     "execution_count": 72,
     "metadata": {},
     "output_type": "execute_result"
    }
   ],
   "source": [
    "results.pvalues>0.05"
   ]
  },
  {
   "cell_type": "markdown",
   "metadata": {},
   "source": [
    "Ainsi X1, X9, X14, X17,X19 et X23 ne sont pas importants"
   ]
  },
  {
   "cell_type": "markdown",
   "metadata": {},
   "source": [
    "<b>TEST DU MODEL RIDGE"
   ]
  },
  {
   "cell_type": "code",
   "execution_count": 73,
   "metadata": {},
   "outputs": [],
   "source": [
    "from sklearn.linear_model import Ridge"
   ]
  },
  {
   "cell_type": "code",
   "execution_count": 74,
   "metadata": {},
   "outputs": [
    {
     "data": {
      "text/plain": [
       "Ridge()"
      ]
     },
     "execution_count": 74,
     "metadata": {},
     "output_type": "execute_result"
    }
   ],
   "source": [
    "#avec l'hyperparametre alpha = 1 \n",
    "ridge_model=Ridge()\n",
    "\n",
    "ridge_model.fit(X_train,Y_train)"
   ]
  },
  {
   "cell_type": "markdown",
   "metadata": {},
   "source": [
    "<b>EVALUATION DU MODEL SUR JEU DE DONNEES TRAIN"
   ]
  },
  {
   "cell_type": "code",
   "execution_count": 75,
   "metadata": {},
   "outputs": [
    {
     "name": "stdout",
     "output_type": "stream",
     "text": [
      "Ridge_Score on training\n",
      "Ridge Linear Regression R_2 Score :  0.9047907460337736\n",
      "Ridge Linear Regression mean squared error :  43217103035.91746\n",
      "Ridge Linear Regression mean absolute error :  161355.43137245058\n"
     ]
    }
   ],
   "source": [
    "print(\"Ridge_Score on training\")\n",
    "Y_train_predict= ridge_model.predict(X_train)\n",
    "print(\"Ridge Linear Regression R_2 Score : \", r2_score(Y_train, Y_train_predict))\n",
    "print(\"Ridge Linear Regression mean squared error : \", mean_squared_error(Y_train, Y_train_predict))\n",
    "print(\"Ridge Linear Regression mean absolute error : \", mean_absolute_error(Y_train, Y_train_predict))"
   ]
  },
  {
   "cell_type": "markdown",
   "metadata": {},
   "source": [
    "<b>EVALUATION DU MODEL SUR JEU DE DONNEES TEST"
   ]
  },
  {
   "cell_type": "code",
   "execution_count": 76,
   "metadata": {},
   "outputs": [
    {
     "name": "stdout",
     "output_type": "stream",
     "text": [
      "Ridge_Score on test\n",
      "Ridge Linear Regression R_2 Score :  0.8938525744058612\n",
      "Ridge Linear Regression mean squared error :  49267746427.7852\n",
      "Ridge Linear Regression mean absolute error :  179823.1178713005\n"
     ]
    }
   ],
   "source": [
    "print(\"Ridge_Score on test\")\n",
    "Y_test_predict= ridge_model.predict(X_test)\n",
    "print(\"Ridge Linear Regression R_2 Score : \", r2_score(Y_test, Y_test_predict))\n",
    "print(\"Ridge Linear Regression mean squared error : \", mean_squared_error(Y_test, Y_test_predict))\n",
    "print(\"Ridge Linear Regression mean absolute error : \", mean_absolute_error(Y_test, Y_test_predict))"
   ]
  },
  {
   "cell_type": "markdown",
   "metadata": {},
   "source": [
    "Il n'y a pas d'overfitting"
   ]
  },
  {
   "cell_type": "markdown",
   "metadata": {},
   "source": [
    "Essayons de faire une cross-validation"
   ]
  },
  {
   "cell_type": "code",
   "execution_count": 77,
   "metadata": {},
   "outputs": [
    {
     "name": "stdout",
     "output_type": "stream",
     "text": [
      "[0.32200598 0.73549792 0.81479227]\n",
      "0.6240987254730223\n"
     ]
    }
   ],
   "source": [
    "scores=cross_val_score(ridge_model,X_train,Y_train,cv=3,scoring=\"r2\")\n",
    "print(scores)\n",
    "print(scores.mean())"
   ]
  },
  {
   "cell_type": "markdown",
   "metadata": {},
   "source": [
    "Essayons de trouver le meilleur hyperparametre alpha pour un meilleur score"
   ]
  },
  {
   "cell_type": "code",
   "execution_count": 78,
   "metadata": {},
   "outputs": [
    {
     "name": "stdout",
     "output_type": "stream",
     "text": [
      "[0.0, 0.1, 0.2, 0.3, 0.4, 0.5, 0.6, 0.7, 0.8, 0.9, 1.0]\n"
     ]
    }
   ],
   "source": [
    "alpha=[]\n",
    "\n",
    "for i in range(0,11,1):\n",
    "    c=i/10\n",
    "    alpha.append(c)\n",
    "\n",
    "print(alpha)"
   ]
  },
  {
   "cell_type": "code",
   "execution_count": 79,
   "metadata": {},
   "outputs": [
    {
     "name": "stdout",
     "output_type": "stream",
     "text": [
      "Fitting 3 folds for each of 11 candidates, totalling 33 fits\n",
      "...Done.\n",
      "Best hyperparameters :  {'alpha': 0.0}\n",
      "Best R2 score :  0.7831173764858846\n",
      "Best estimator :  Ridge(alpha=0.0)\n"
     ]
    }
   ],
   "source": [
    "#nous faisons une GridSearch, c'est à dire que le modèle va tester plusieurs hyperparametres tout en faisant une cross-validation de 3\n",
    "params={'alpha':alpha}\n",
    "gridsearch = GridSearchCV(ridge_model, param_grid = params, cv = 3,verbose=1) \n",
    "gridsearch.fit(X_train, Y_train)\n",
    "print(\"...Done.\")\n",
    "print(\"Best hyperparameters : \", gridsearch.best_params_)\n",
    "print(\"Best R2 score : \", gridsearch.best_score_)\n",
    "print(\"Best estimator : \", gridsearch.best_estimator_)"
   ]
  },
  {
   "cell_type": "code",
   "execution_count": 80,
   "metadata": {},
   "outputs": [
    {
     "data": {
      "text/plain": [
       "{'mean_fit_time': array([0.00763194, 0.00396101, 0.00281207, 0.00273975, 0.00271646,\n",
       "        0.0025955 , 0.0025688 , 0.00252581, 0.00246755, 0.00286913,\n",
       "        0.0024511 ]),\n",
       " 'std_fit_time': array([7.05929736e-04, 1.29162430e-03, 7.90012193e-05, 4.23859391e-05,\n",
       "        5.59216807e-05, 5.11070429e-05, 5.44981043e-05, 6.31597771e-05,\n",
       "        2.13073243e-05, 5.88399117e-04, 5.81224313e-05]),\n",
       " 'mean_score_time': array([0.00055806, 0.00037607, 0.0003655 , 0.00035572, 0.00035588,\n",
       "        0.00035636, 0.00035095, 0.00035119, 0.00033545, 0.00040603,\n",
       "        0.00035961]),\n",
       " 'std_score_time': array([8.23977583e-05, 1.87774708e-05, 1.24997444e-05, 1.09793417e-05,\n",
       "        1.01942337e-05, 2.01237459e-05, 1.60515504e-05, 1.38870721e-05,\n",
       "        4.26940156e-06, 7.96781907e-05, 3.31126319e-06]),\n",
       " 'param_alpha': masked_array(data=[0.0, 0.1, 0.2, 0.3, 0.4, 0.5, 0.6, 0.7, 0.8, 0.9, 1.0],\n",
       "              mask=[False, False, False, False, False, False, False, False,\n",
       "                    False, False, False],\n",
       "        fill_value='?',\n",
       "             dtype=object),\n",
       " 'params': [{'alpha': 0.0},\n",
       "  {'alpha': 0.1},\n",
       "  {'alpha': 0.2},\n",
       "  {'alpha': 0.3},\n",
       "  {'alpha': 0.4},\n",
       "  {'alpha': 0.5},\n",
       "  {'alpha': 0.6},\n",
       "  {'alpha': 0.7},\n",
       "  {'alpha': 0.8},\n",
       "  {'alpha': 0.9},\n",
       "  {'alpha': 1.0}],\n",
       " 'split0_test_score': array([0.55948152, 0.45831923, 0.41662875, 0.39457607, 0.38058466,\n",
       "        0.36829923, 0.35800157, 0.34835016, 0.33893619, 0.3302971 ,\n",
       "        0.32200598]),\n",
       " 'split1_test_score': array([0.87506102, 0.8531926 , 0.83812533, 0.82531799, 0.81327223,\n",
       "        0.79856667, 0.7870308 , 0.77474807, 0.76194224, 0.74883456,\n",
       "        0.73549792]),\n",
       " 'split2_test_score': array([0.91480959, 0.9215494 , 0.91454753, 0.90406262, 0.89160381,\n",
       "        0.87881923, 0.86572284, 0.85267418, 0.84007928, 0.82729261,\n",
       "        0.81479227]),\n",
       " 'mean_test_score': array([0.78311738, 0.74435374, 0.72310054, 0.70798556, 0.69515357,\n",
       "        0.68189504, 0.67025174, 0.6585908 , 0.6469859 , 0.63547476,\n",
       "        0.62409873]),\n",
       " 'std_test_score': array([0.15896485, 0.20417308, 0.21894262, 0.22393349, 0.2247208 ,\n",
       "        0.22415303, 0.22311915, 0.22166801, 0.2201474 , 0.21815739,\n",
       "        0.21605079]),\n",
       " 'rank_test_score': array([ 1,  2,  3,  4,  5,  6,  7,  8,  9, 10, 11], dtype=int32)}"
      ]
     },
     "execution_count": 80,
     "metadata": {},
     "output_type": "execute_result"
    }
   ],
   "source": [
    "gridsearch.cv_results_"
   ]
  },
  {
   "cell_type": "code",
   "execution_count": 81,
   "metadata": {},
   "outputs": [
    {
     "name": "stdout",
     "output_type": "stream",
     "text": [
      "Ridge Best Estimator Score on training\n",
      "Ridge Best Estimator Linear Regression R_2 Score :  0.9741540216364065\n",
      "Ridge Best Estimator Linear Regression mean squared error :  11731930074.777624\n",
      "Ridge Best Estimator Linear Regression mean absolute error :  82552.23452309043\n"
     ]
    }
   ],
   "source": [
    "#Maintenant testons le meilleur hyperparametre sur le jeu de données train et test\n",
    "print(\"Ridge Best Estimator Score on training\")\n",
    "Y_train_predict= gridsearch.best_estimator_.predict(X_train)\n",
    "print(\"Ridge Best Estimator Linear Regression R_2 Score : \", r2_score(Y_train, Y_train_predict))\n",
    "print(\"Ridge Best Estimator Linear Regression mean squared error : \", mean_squared_error(Y_train, Y_train_predict))\n",
    "print(\"Ridge Best Estimator Linear Regression mean absolute error : \", mean_absolute_error(Y_train, Y_train_predict))"
   ]
  },
  {
   "cell_type": "code",
   "execution_count": 82,
   "metadata": {},
   "outputs": [
    {
     "name": "stdout",
     "output_type": "stream",
     "text": [
      "Ridge Best Estimator Score on test\n",
      "Ridge Best Estimator Linear Regression R_2 Score :  0.9672211286630354\n",
      "Ridge Best Estimator Linear Regression mean squared error :  15214133665.31744\n",
      "Ridge Best Estimator Linear Regression mean absolute error :  106930.51077536978\n"
     ]
    }
   ],
   "source": [
    "print(\"Ridge Best Estimator Score on test\")\n",
    "Y_test_predict= gridsearch.best_estimator_.predict(X_test)\n",
    "print(\"Ridge Best Estimator Linear Regression R_2 Score : \", r2_score(Y_test, Y_test_predict))\n",
    "print(\"Ridge Best Estimator Linear Regression mean squared error : \", mean_squared_error(Y_test, Y_test_predict))\n",
    "print(\"Ridge Best Estimator Linear Regression mean absolute error : \", mean_absolute_error(Y_test, Y_test_predict))"
   ]
  },
  {
   "cell_type": "markdown",
   "metadata": {},
   "source": [
    "En utilisant la contrainte de pénalisation du modèle par Ridge, on va pénaliser les coefficients les plus importants mais on garde toutes les variables, contrairement au modèle de pénalisation Lasso, que nous allons essayer ci-dessous, qui supprime les variables non importantes"
   ]
  },
  {
   "cell_type": "markdown",
   "metadata": {},
   "source": [
    "<b> TEST DU MODELE LASSO"
   ]
  },
  {
   "cell_type": "code",
   "execution_count": 83,
   "metadata": {},
   "outputs": [],
   "source": [
    "from sklearn.linear_model import Lasso"
   ]
  },
  {
   "cell_type": "code",
   "execution_count": 84,
   "metadata": {},
   "outputs": [
    {
     "data": {
      "text/plain": [
       "Lasso(max_iter=10000000)"
      ]
     },
     "execution_count": 84,
     "metadata": {},
     "output_type": "execute_result"
    }
   ],
   "source": [
    "#avec l'hyperparametre par défaut alpha = 1 \n",
    "lasso_model=Lasso(max_iter=10000000)\n",
    "\n",
    "lasso_model.fit(X_train,Y_train)"
   ]
  },
  {
   "cell_type": "code",
   "execution_count": 85,
   "metadata": {},
   "outputs": [
    {
     "name": "stdout",
     "output_type": "stream",
     "text": [
      "[-2.06478321  0.89341134  0.914822  ]\n",
      "-0.08551662313997939\n"
     ]
    }
   ],
   "source": [
    "scores=cross_val_score(lasso_model,X_train,Y_train,cv=3,scoring=\"r2\")\n",
    "print(scores)\n",
    "print(scores.mean())"
   ]
  },
  {
   "cell_type": "markdown",
   "metadata": {},
   "source": [
    "<b> Test du modèle sur le jeu de données d'entraînement"
   ]
  },
  {
   "cell_type": "code",
   "execution_count": 86,
   "metadata": {},
   "outputs": [
    {
     "name": "stdout",
     "output_type": "stream",
     "text": [
      "Lasso_Score on training\n",
      "Lasso Linear Regression R_2 Score :  0.9766791173584529\n",
      "Lasso Linear Regression mean squared error :  10585746091.086903\n",
      "Lasso Linear Regression mean absolute error :  78324.58796651728\n"
     ]
    }
   ],
   "source": [
    "print(\"Lasso_Score on training\")\n",
    "Y_train_predict= lasso_model.predict(X_train)\n",
    "print(\"Lasso Linear Regression R_2 Score : \", r2_score(Y_train, Y_train_predict))\n",
    "print(\"Lasso Linear Regression mean squared error : \", mean_squared_error(Y_train, Y_train_predict))\n",
    "print(\"Lasso Linear Regression mean absolute error : \", mean_absolute_error(Y_train, Y_train_predict))"
   ]
  },
  {
   "cell_type": "markdown",
   "metadata": {},
   "source": [
    "<b> Test du modèle sur le jeu de données Test"
   ]
  },
  {
   "cell_type": "code",
   "execution_count": 87,
   "metadata": {},
   "outputs": [
    {
     "name": "stdout",
     "output_type": "stream",
     "text": [
      "Lasso_Score on test\n",
      "Lasso Linear Regression R_2 Score :  0.9650559296318022\n",
      "Lasso Linear Regression mean squared error :  16219098941.106253\n",
      "Lasso Linear Regression mean absolute error :  117387.75324813504\n"
     ]
    }
   ],
   "source": [
    "print(\"Lasso_Score on test\")\n",
    "Y_test_predict= lasso_model.predict(X_test)\n",
    "print(\"Lasso Linear Regression R_2 Score : \", r2_score(Y_test, Y_test_predict))\n",
    "print(\"Lasso Linear Regression mean squared error : \", mean_squared_error(Y_test, Y_test_predict))\n",
    "print(\"Lasso Linear Regression mean absolute error : \", mean_absolute_error(Y_test, Y_test_predict))"
   ]
  },
  {
   "cell_type": "markdown",
   "metadata": {},
   "source": [
    "Essayons de trouver le meilleur hyperparametre alpha pour un meilleur score"
   ]
  },
  {
   "cell_type": "code",
   "execution_count": 88,
   "metadata": {},
   "outputs": [],
   "source": [
    "alpha=range(0,10000,10)"
   ]
  },
  {
   "cell_type": "code",
   "execution_count": 89,
   "metadata": {},
   "outputs": [
    {
     "name": "stdout",
     "output_type": "stream",
     "text": [
      "Fitting 3 folds for each of 1000 candidates, totalling 3000 fits\n"
     ]
    },
    {
     "name": "stderr",
     "output_type": "stream",
     "text": [
      "/opt/conda/lib/python3.9/site-packages/sklearn/model_selection/_validation.py:680: UserWarning:\n",
      "\n",
      "With alpha=0, this algorithm does not converge well. You are advised to use the LinearRegression estimator\n",
      "\n",
      "/opt/conda/lib/python3.9/site-packages/sklearn/linear_model/_coordinate_descent.py:609: ConvergenceWarning:\n",
      "\n",
      "Objective did not converge. You might want to increase the number of iterations. Duality gap: 163917077807.57455, tolerance: 1573781506.0281057\n",
      "\n",
      "/opt/conda/lib/python3.9/site-packages/sklearn/model_selection/_validation.py:680: UserWarning:\n",
      "\n",
      "With alpha=0, this algorithm does not converge well. You are advised to use the LinearRegression estimator\n",
      "\n",
      "/opt/conda/lib/python3.9/site-packages/sklearn/linear_model/_coordinate_descent.py:609: ConvergenceWarning:\n",
      "\n",
      "Objective did not converge. You might want to increase the number of iterations. Duality gap: 182868824514.9391, tolerance: 2284273126.020421\n",
      "\n",
      "/opt/conda/lib/python3.9/site-packages/sklearn/model_selection/_validation.py:680: UserWarning:\n",
      "\n",
      "With alpha=0, this algorithm does not converge well. You are advised to use the LinearRegression estimator\n",
      "\n",
      "/opt/conda/lib/python3.9/site-packages/sklearn/linear_model/_coordinate_descent.py:609: ConvergenceWarning:\n",
      "\n",
      "Objective did not converge. You might want to increase the number of iterations. Duality gap: 131583633676.59601, tolerance: 1905967497.62459\n",
      "\n"
     ]
    },
    {
     "name": "stdout",
     "output_type": "stream",
     "text": [
      "...Done.\n",
      "Best hyperparameters :  {'alpha': 870}\n",
      "Best R2 score :  0.7872778141974702\n",
      "Best estimator :  Lasso(alpha=870, max_iter=10000000)\n"
     ]
    }
   ],
   "source": [
    "params={'alpha':alpha}\n",
    "\n",
    "gridsearch = GridSearchCV(lasso_model, param_grid = params, cv = 3,verbose=1) \n",
    "gridsearch.fit(X_train, Y_train)\n",
    "print(\"...Done.\")\n",
    "print(\"Best hyperparameters : \", gridsearch.best_params_)\n",
    "print(\"Best R2 score : \", gridsearch.best_score_)\n",
    "print(\"Best estimator : \", gridsearch.best_estimator_)"
   ]
  },
  {
   "cell_type": "code",
   "execution_count": 90,
   "metadata": {},
   "outputs": [],
   "source": [
    "#testons le meilleur hyperparametre sur le jeu de données d'entraînement"
   ]
  },
  {
   "cell_type": "code",
   "execution_count": 91,
   "metadata": {},
   "outputs": [
    {
     "name": "stdout",
     "output_type": "stream",
     "text": [
      "Lasso Best Estimator Score on training\n",
      "Lasso Best Estimator Linear Regression R_2 Score :  0.9721453368739408\n",
      "Lasso Best Estimator Linear Regression mean squared error :  12643706322.672146\n",
      "Lasso Best Estimator Linear Regression mean absolute error :  83071.7667233047\n"
     ]
    }
   ],
   "source": [
    "print(\"Lasso Best Estimator Score on training\")\n",
    "Y_train_predict= gridsearch.best_estimator_.predict(X_train)\n",
    "print(\"Lasso Best Estimator Linear Regression R_2 Score : \", r2_score(Y_train, Y_train_predict))\n",
    "print(\"Lasso Best Estimator Linear Regression mean squared error : \", mean_squared_error(Y_train, Y_train_predict))\n",
    "print(\"Lasso Best Estimator Linear Regression mean absolute error : \", mean_absolute_error(Y_train, Y_train_predict))"
   ]
  },
  {
   "cell_type": "code",
   "execution_count": 92,
   "metadata": {},
   "outputs": [],
   "source": [
    "#et sur le jeu de données test"
   ]
  },
  {
   "cell_type": "code",
   "execution_count": 93,
   "metadata": {},
   "outputs": [
    {
     "name": "stdout",
     "output_type": "stream",
     "text": [
      "Lasso Best Estimator Score on test\n",
      "Lasso Best Estimator Linear Regression R_2 Score :  0.9788025702197825\n",
      "Lasso Best Estimator Linear Regression mean squared error :  9838670975.645481\n",
      "Lasso Best Estimator Linear Regression mean absolute error :  76220.5037495706\n"
     ]
    }
   ],
   "source": [
    "print(\"Lasso Best Estimator Score on test\")\n",
    "Y_test_predict= gridsearch.best_estimator_.predict(X_test)\n",
    "print(\"Lasso Best Estimator Linear Regression R_2 Score : \", r2_score(Y_test, Y_test_predict))\n",
    "print(\"Lasso Best Estimator Linear Regression mean squared error : \", mean_squared_error(Y_test, Y_test_predict))\n",
    "print(\"Lasso Best Estimator Linear Regression mean absolute error : \", mean_absolute_error(Y_test, Y_test_predict))"
   ]
  },
  {
   "cell_type": "markdown",
   "metadata": {},
   "source": [
    "Le modèle qui a obtenu le meilleur R_2 score est le modèle Lasso avec le meilleur parametre alpha trouvé grâce à la GridSearch.\n",
    "La pénalisation du modèle de régression linéaire avec le modèle Lasso permet de supprimer les variables qui ne sont pas importantes, permettant ainsi de mieux généraliser le modèle sur les données test et donc obtenir un meilleur score.\n",
    "Il reste une erreur absolue moyenne de 76 220$, c'est à dire que le modèle peut se tromper en positif ou en négatif de cette marge d'erreur.\n",
    "Le dataset n'est pas très conséquent, on pourrait encore améliorer le modèle avec plus de données."
   ]
  },
  {
   "cell_type": "code",
   "execution_count": null,
   "metadata": {},
   "outputs": [],
   "source": []
  }
 ],
 "metadata": {
  "kernelspec": {
   "display_name": "Python 3 (ipykernel)",
   "language": "python",
   "name": "python3"
  },
  "language_info": {
   "codemirror_mode": {
    "name": "ipython",
    "version": 3
   },
   "file_extension": ".py",
   "mimetype": "text/x-python",
   "name": "python",
   "nbconvert_exporter": "python",
   "pygments_lexer": "ipython3",
   "version": "3.9.7"
  }
 },
 "nbformat": 4,
 "nbformat_minor": 4
}
